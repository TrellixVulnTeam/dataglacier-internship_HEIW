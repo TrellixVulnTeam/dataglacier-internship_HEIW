{
 "cells": [
  {
   "cell_type": "markdown",
   "metadata": {},
   "source": [
    "# G2M insight for Cab Investment firm"
   ]
  },
  {
   "cell_type": "markdown",
   "metadata": {},
   "source": [
    "We have been provided with 4 individuals datasets:\n",
    "\n",
    "\n",
    "1. **Cab_Data.csv** this file includes details of transactions for 2 cab companies\n",
    "2. **Customer_ID.csv** this is a mapping table that contains a unique identifier which links the customer’s demographic details,\n",
    "3. **Transaction_ID.csv** this is a mapping table that contains transaction to customer mapping and payment mode,\n",
    "4. **City.csv** this file contains list of US cities, their population and number of cab users\n"
   ]
  },
  {
   "cell_type": "markdown",
   "metadata": {},
   "source": [
    "The main objective of this project is to provide actionable insights to help XYZ firm in identifying the right company for making investment."
   ]
  },
  {
   "cell_type": "markdown",
   "metadata": {},
   "source": [
    "Areas to investigate:\n",
    "* Which company has maximum cab users at a particular time period?\n",
    "* Does margin proportionally increase with increase in number of customers?\n",
    "* What are the attributes of the customer segments?\n",
    "\n",
    "Hypothesis to test:\n",
    "* Is there any seasonality in number of customers using the cab service?\n",
    "* Is there any seasonality in profit per cab company?\n",
    "* Do users prefer a particular company?\n",
    "\n"
   ]
  },
  {
   "cell_type": "code",
   "execution_count": 1,
   "metadata": {},
   "outputs": [],
   "source": [
    "# Importings\n",
    "import numpy as np\n",
    "import pandas as pd\n",
    "import matplotlib.pyplot as plt\n",
    "import seaborn as sns\n",
    "import datetime"
   ]
  },
  {
   "cell_type": "code",
   "execution_count": 2,
   "metadata": {},
   "outputs": [],
   "source": [
    "# Dataset loadings\n",
    "cab_data = pd.read_csv('DataSets/Cab_Data.csv')\n",
    "city_df = pd.read_csv('DataSets/City.csv')\n",
    "Customer_ID_df = pd.read_csv('DataSets/Customer_ID.csv')\n",
    "Transaction_ID_df = pd.read_csv('DataSets/Transaction_ID.csv')\n",
    "us_holidays = pd.read_csv('DataSets/US_Holidays_Day.txt', header=None, usecols=[1,2], names=['Date', 'Holiday'], parse_dates=['Date'])"
   ]
  },
  {
   "cell_type": "markdown",
   "metadata": {},
   "source": [
    "## EDA"
   ]
  },
  {
   "cell_type": "markdown",
   "metadata": {},
   "source": [
    "### 1. Cab_Data dataset"
   ]
  },
  {
   "cell_type": "code",
   "execution_count": 3,
   "metadata": {},
   "outputs": [],
   "source": [
    "cab_data.sort_values(by=['Date of Travel'], inplace=True)\n",
    "cab_data.reset_index(drop=True, inplace=True)"
   ]
  },
  {
   "cell_type": "code",
   "execution_count": 4,
   "metadata": {},
   "outputs": [
    {
     "name": "stdout",
     "output_type": "stream",
     "text": [
      "<class 'pandas.core.frame.DataFrame'>\n",
      "RangeIndex: 359392 entries, 0 to 359391\n",
      "Data columns (total 7 columns):\n",
      " #   Column          Non-Null Count   Dtype  \n",
      "---  ------          --------------   -----  \n",
      " 0   Transaction ID  359392 non-null  int64  \n",
      " 1   Date of Travel  359392 non-null  int64  \n",
      " 2   Company         359392 non-null  object \n",
      " 3   City            359392 non-null  object \n",
      " 4   KM Travelled    359392 non-null  float64\n",
      " 5   Price Charged   359392 non-null  float64\n",
      " 6   Cost of Trip    359392 non-null  float64\n",
      "dtypes: float64(3), int64(2), object(2)\n",
      "memory usage: 19.2+ MB\n"
     ]
    }
   ],
   "source": [
    "cab_data.info()"
   ]
  },
  {
   "cell_type": "code",
   "execution_count": 5,
   "metadata": {},
   "outputs": [
    {
     "data": {
      "text/plain": [
       "Transaction ID    0\n",
       "Date of Travel    0\n",
       "Company           0\n",
       "City              0\n",
       "KM Travelled      0\n",
       "Price Charged     0\n",
       "Cost of Trip      0\n",
       "dtype: int64"
      ]
     },
     "execution_count": 5,
     "metadata": {},
     "output_type": "execute_result"
    }
   ],
   "source": [
    "cab_data.isnull().sum()"
   ]
  },
  {
   "cell_type": "markdown",
   "metadata": {},
   "source": [
    "The cab_data dataframe have 7 features and 359392 rows with no NaN values."
   ]
  },
  {
   "cell_type": "code",
   "execution_count": 6,
   "metadata": {},
   "outputs": [
    {
     "data": {
      "text/html": [
       "<div>\n",
       "<style scoped>\n",
       "    .dataframe tbody tr th:only-of-type {\n",
       "        vertical-align: middle;\n",
       "    }\n",
       "\n",
       "    .dataframe tbody tr th {\n",
       "        vertical-align: top;\n",
       "    }\n",
       "\n",
       "    .dataframe thead th {\n",
       "        text-align: right;\n",
       "    }\n",
       "</style>\n",
       "<table border=\"1\" class=\"dataframe\">\n",
       "  <thead>\n",
       "    <tr style=\"text-align: right;\">\n",
       "      <th></th>\n",
       "      <th>Transaction ID</th>\n",
       "      <th>Date of Travel</th>\n",
       "      <th>Company</th>\n",
       "      <th>City</th>\n",
       "      <th>KM Travelled</th>\n",
       "      <th>Price Charged</th>\n",
       "      <th>Cost of Trip</th>\n",
       "    </tr>\n",
       "  </thead>\n",
       "  <tbody>\n",
       "    <tr>\n",
       "      <th>0</th>\n",
       "      <td>10001340</td>\n",
       "      <td>42371</td>\n",
       "      <td>Yellow Cab</td>\n",
       "      <td>WASHINGTON DC</td>\n",
       "      <td>10.20</td>\n",
       "      <td>202.54</td>\n",
       "      <td>135.8640</td>\n",
       "    </tr>\n",
       "    <tr>\n",
       "      <th>1</th>\n",
       "      <td>10000640</td>\n",
       "      <td>42371</td>\n",
       "      <td>Yellow Cab</td>\n",
       "      <td>CHICAGO IL</td>\n",
       "      <td>15.60</td>\n",
       "      <td>374.66</td>\n",
       "      <td>209.6640</td>\n",
       "    </tr>\n",
       "    <tr>\n",
       "      <th>2</th>\n",
       "      <td>10000635</td>\n",
       "      <td>42371</td>\n",
       "      <td>Yellow Cab</td>\n",
       "      <td>CHICAGO IL</td>\n",
       "      <td>25.08</td>\n",
       "      <td>532.83</td>\n",
       "      <td>337.0752</td>\n",
       "    </tr>\n",
       "    <tr>\n",
       "      <th>3</th>\n",
       "      <td>10001001</td>\n",
       "      <td>42371</td>\n",
       "      <td>Yellow Cab</td>\n",
       "      <td>NEW YORK NY</td>\n",
       "      <td>46.80</td>\n",
       "      <td>1391.91</td>\n",
       "      <td>595.2960</td>\n",
       "    </tr>\n",
       "    <tr>\n",
       "      <th>4</th>\n",
       "      <td>10000171</td>\n",
       "      <td>42371</td>\n",
       "      <td>Pink Cab</td>\n",
       "      <td>SAN DIEGO CA</td>\n",
       "      <td>14.28</td>\n",
       "      <td>269.15</td>\n",
       "      <td>147.0840</td>\n",
       "    </tr>\n",
       "  </tbody>\n",
       "</table>\n",
       "</div>"
      ],
      "text/plain": [
       "   Transaction ID  Date of Travel     Company           City  KM Travelled  \\\n",
       "0        10001340           42371  Yellow Cab  WASHINGTON DC         10.20   \n",
       "1        10000640           42371  Yellow Cab     CHICAGO IL         15.60   \n",
       "2        10000635           42371  Yellow Cab     CHICAGO IL         25.08   \n",
       "3        10001001           42371  Yellow Cab    NEW YORK NY         46.80   \n",
       "4        10000171           42371    Pink Cab   SAN DIEGO CA         14.28   \n",
       "\n",
       "   Price Charged  Cost of Trip  \n",
       "0         202.54      135.8640  \n",
       "1         374.66      209.6640  \n",
       "2         532.83      337.0752  \n",
       "3        1391.91      595.2960  \n",
       "4         269.15      147.0840  "
      ]
     },
     "execution_count": 6,
     "metadata": {},
     "output_type": "execute_result"
    }
   ],
   "source": [
    "cab_data.head()"
   ]
  },
  {
   "cell_type": "code",
   "execution_count": 7,
   "metadata": {},
   "outputs": [
    {
     "data": {
      "text/html": [
       "<div>\n",
       "<style scoped>\n",
       "    .dataframe tbody tr th:only-of-type {\n",
       "        vertical-align: middle;\n",
       "    }\n",
       "\n",
       "    .dataframe tbody tr th {\n",
       "        vertical-align: top;\n",
       "    }\n",
       "\n",
       "    .dataframe thead th {\n",
       "        text-align: right;\n",
       "    }\n",
       "</style>\n",
       "<table border=\"1\" class=\"dataframe\">\n",
       "  <thead>\n",
       "    <tr style=\"text-align: right;\">\n",
       "      <th></th>\n",
       "      <th>Transaction ID</th>\n",
       "      <th>Date of Travel</th>\n",
       "      <th>Company</th>\n",
       "      <th>City</th>\n",
       "      <th>KM Travelled</th>\n",
       "      <th>Price Charged</th>\n",
       "      <th>Cost of Trip</th>\n",
       "    </tr>\n",
       "  </thead>\n",
       "  <tbody>\n",
       "    <tr>\n",
       "      <th>359387</th>\n",
       "      <td>10435011</td>\n",
       "      <td>43465</td>\n",
       "      <td>Yellow Cab</td>\n",
       "      <td>MIAMI FL</td>\n",
       "      <td>21.20</td>\n",
       "      <td>319.09</td>\n",
       "      <td>300.1920</td>\n",
       "    </tr>\n",
       "    <tr>\n",
       "      <th>359388</th>\n",
       "      <td>10433309</td>\n",
       "      <td>43465</td>\n",
       "      <td>Pink Cab</td>\n",
       "      <td>LOS ANGELES CA</td>\n",
       "      <td>10.70</td>\n",
       "      <td>128.00</td>\n",
       "      <td>119.8400</td>\n",
       "    </tr>\n",
       "    <tr>\n",
       "      <th>359389</th>\n",
       "      <td>10435915</td>\n",
       "      <td>43465</td>\n",
       "      <td>Yellow Cab</td>\n",
       "      <td>SACRAMENTO CA</td>\n",
       "      <td>27.14</td>\n",
       "      <td>374.95</td>\n",
       "      <td>377.7888</td>\n",
       "    </tr>\n",
       "    <tr>\n",
       "      <th>359390</th>\n",
       "      <td>10439845</td>\n",
       "      <td>43465</td>\n",
       "      <td>Yellow Cab</td>\n",
       "      <td>TUCSON AZ</td>\n",
       "      <td>27.16</td>\n",
       "      <td>513.62</td>\n",
       "      <td>361.7712</td>\n",
       "    </tr>\n",
       "    <tr>\n",
       "      <th>359391</th>\n",
       "      <td>10438644</td>\n",
       "      <td>43465</td>\n",
       "      <td>Yellow Cab</td>\n",
       "      <td>NEW YORK NY</td>\n",
       "      <td>3.45</td>\n",
       "      <td>77.13</td>\n",
       "      <td>49.6800</td>\n",
       "    </tr>\n",
       "  </tbody>\n",
       "</table>\n",
       "</div>"
      ],
      "text/plain": [
       "        Transaction ID  Date of Travel     Company            City  \\\n",
       "359387        10435011           43465  Yellow Cab        MIAMI FL   \n",
       "359388        10433309           43465    Pink Cab  LOS ANGELES CA   \n",
       "359389        10435915           43465  Yellow Cab   SACRAMENTO CA   \n",
       "359390        10439845           43465  Yellow Cab       TUCSON AZ   \n",
       "359391        10438644           43465  Yellow Cab     NEW YORK NY   \n",
       "\n",
       "        KM Travelled  Price Charged  Cost of Trip  \n",
       "359387         21.20         319.09      300.1920  \n",
       "359388         10.70         128.00      119.8400  \n",
       "359389         27.14         374.95      377.7888  \n",
       "359390         27.16         513.62      361.7712  \n",
       "359391          3.45          77.13       49.6800  "
      ]
     },
     "execution_count": 7,
     "metadata": {},
     "output_type": "execute_result"
    }
   ],
   "source": [
    "cab_data.tail()"
   ]
  },
  {
   "cell_type": "markdown",
   "metadata": {},
   "source": [
    "It is observed that the column 'Date of Travel' has the Unix timestamp. So it will be chaged to YY-MM-DD format."
   ]
  },
  {
   "cell_type": "code",
   "execution_count": 8,
   "metadata": {},
   "outputs": [
    {
     "data": {
      "text/plain": [
       "datetime.date(1900, 1, 28)"
      ]
     },
     "execution_count": 8,
     "metadata": {},
     "output_type": "execute_result"
    }
   ],
   "source": [
    "datetime.date(2016, 1, 31)-datetime.timedelta(days=42371)"
   ]
  },
  {
   "cell_type": "code",
   "execution_count": 9,
   "metadata": {},
   "outputs": [
    {
     "data": {
      "text/plain": [
       "datetime.date(1899, 12, 30)"
      ]
     },
     "execution_count": 9,
     "metadata": {},
     "output_type": "execute_result"
    }
   ],
   "source": [
    "datetime.date(2018, 12, 31)-datetime.timedelta(days=43465)"
   ]
  },
  {
   "cell_type": "code",
   "execution_count": 10,
   "metadata": {},
   "outputs": [
    {
     "data": {
      "text/plain": [
       "datetime.date(2016, 1, 2)"
      ]
     },
     "execution_count": 10,
     "metadata": {},
     "output_type": "execute_result"
    }
   ],
   "source": [
    "datetime.date(1899, 12, 30) + datetime.timedelta(days=42371)"
   ]
  },
  {
   "cell_type": "code",
   "execution_count": 11,
   "metadata": {},
   "outputs": [
    {
     "data": {
      "text/plain": [
       "datetime.date(2018, 12, 31)"
      ]
     },
     "execution_count": 11,
     "metadata": {},
     "output_type": "execute_result"
    }
   ],
   "source": [
    "datetime.date(1899, 12, 30) + datetime.timedelta(days=43465)"
   ]
  },
  {
   "cell_type": "markdown",
   "metadata": {},
   "source": [
    "If we take 1899-12-30 as the begining of unix time, then the cab_data dataset has the following timestamp range: from 2016-1-2 to 2018-12-31."
   ]
  },
  {
   "cell_type": "code",
   "execution_count": 12,
   "metadata": {},
   "outputs": [],
   "source": [
    "#Changing timestamps format\n",
    "\n",
    "timestamps = cab_data['Date of Travel'].to_list()\n",
    "\n",
    "dts = []\n",
    "\n",
    "for ts in timestamps:\n",
    "    dts.append((datetime.date(1899,12,30) + datetime.timedelta(days=ts)).strftime(\"%Y-%m-%d\"))"
   ]
  },
  {
   "cell_type": "code",
   "execution_count": 13,
   "metadata": {},
   "outputs": [],
   "source": [
    "cab_data['Date'] = pd.to_datetime(dts)"
   ]
  },
  {
   "cell_type": "code",
   "execution_count": 14,
   "metadata": {},
   "outputs": [
    {
     "data": {
      "text/html": [
       "<div>\n",
       "<style scoped>\n",
       "    .dataframe tbody tr th:only-of-type {\n",
       "        vertical-align: middle;\n",
       "    }\n",
       "\n",
       "    .dataframe tbody tr th {\n",
       "        vertical-align: top;\n",
       "    }\n",
       "\n",
       "    .dataframe thead th {\n",
       "        text-align: right;\n",
       "    }\n",
       "</style>\n",
       "<table border=\"1\" class=\"dataframe\">\n",
       "  <thead>\n",
       "    <tr style=\"text-align: right;\">\n",
       "      <th></th>\n",
       "      <th>Transaction ID</th>\n",
       "      <th>Date of Travel</th>\n",
       "      <th>Company</th>\n",
       "      <th>City</th>\n",
       "      <th>KM Travelled</th>\n",
       "      <th>Price Charged</th>\n",
       "      <th>Cost of Trip</th>\n",
       "      <th>Date</th>\n",
       "    </tr>\n",
       "  </thead>\n",
       "  <tbody>\n",
       "    <tr>\n",
       "      <th>0</th>\n",
       "      <td>10001340</td>\n",
       "      <td>42371</td>\n",
       "      <td>Yellow Cab</td>\n",
       "      <td>WASHINGTON DC</td>\n",
       "      <td>10.20</td>\n",
       "      <td>202.54</td>\n",
       "      <td>135.8640</td>\n",
       "      <td>2016-01-02</td>\n",
       "    </tr>\n",
       "    <tr>\n",
       "      <th>1</th>\n",
       "      <td>10000640</td>\n",
       "      <td>42371</td>\n",
       "      <td>Yellow Cab</td>\n",
       "      <td>CHICAGO IL</td>\n",
       "      <td>15.60</td>\n",
       "      <td>374.66</td>\n",
       "      <td>209.6640</td>\n",
       "      <td>2016-01-02</td>\n",
       "    </tr>\n",
       "    <tr>\n",
       "      <th>2</th>\n",
       "      <td>10000635</td>\n",
       "      <td>42371</td>\n",
       "      <td>Yellow Cab</td>\n",
       "      <td>CHICAGO IL</td>\n",
       "      <td>25.08</td>\n",
       "      <td>532.83</td>\n",
       "      <td>337.0752</td>\n",
       "      <td>2016-01-02</td>\n",
       "    </tr>\n",
       "    <tr>\n",
       "      <th>3</th>\n",
       "      <td>10001001</td>\n",
       "      <td>42371</td>\n",
       "      <td>Yellow Cab</td>\n",
       "      <td>NEW YORK NY</td>\n",
       "      <td>46.80</td>\n",
       "      <td>1391.91</td>\n",
       "      <td>595.2960</td>\n",
       "      <td>2016-01-02</td>\n",
       "    </tr>\n",
       "    <tr>\n",
       "      <th>4</th>\n",
       "      <td>10000171</td>\n",
       "      <td>42371</td>\n",
       "      <td>Pink Cab</td>\n",
       "      <td>SAN DIEGO CA</td>\n",
       "      <td>14.28</td>\n",
       "      <td>269.15</td>\n",
       "      <td>147.0840</td>\n",
       "      <td>2016-01-02</td>\n",
       "    </tr>\n",
       "  </tbody>\n",
       "</table>\n",
       "</div>"
      ],
      "text/plain": [
       "   Transaction ID  Date of Travel     Company           City  KM Travelled  \\\n",
       "0        10001340           42371  Yellow Cab  WASHINGTON DC         10.20   \n",
       "1        10000640           42371  Yellow Cab     CHICAGO IL         15.60   \n",
       "2        10000635           42371  Yellow Cab     CHICAGO IL         25.08   \n",
       "3        10001001           42371  Yellow Cab    NEW YORK NY         46.80   \n",
       "4        10000171           42371    Pink Cab   SAN DIEGO CA         14.28   \n",
       "\n",
       "   Price Charged  Cost of Trip       Date  \n",
       "0         202.54      135.8640 2016-01-02  \n",
       "1         374.66      209.6640 2016-01-02  \n",
       "2         532.83      337.0752 2016-01-02  \n",
       "3        1391.91      595.2960 2016-01-02  \n",
       "4         269.15      147.0840 2016-01-02  "
      ]
     },
     "execution_count": 14,
     "metadata": {},
     "output_type": "execute_result"
    }
   ],
   "source": [
    "#Checking new column\n",
    "cab_data.head()"
   ]
  },
  {
   "cell_type": "markdown",
   "metadata": {},
   "source": [
    "### 2. City dataset"
   ]
  },
  {
   "cell_type": "code",
   "execution_count": 15,
   "metadata": {},
   "outputs": [
    {
     "data": {
      "text/html": [
       "<div>\n",
       "<style scoped>\n",
       "    .dataframe tbody tr th:only-of-type {\n",
       "        vertical-align: middle;\n",
       "    }\n",
       "\n",
       "    .dataframe tbody tr th {\n",
       "        vertical-align: top;\n",
       "    }\n",
       "\n",
       "    .dataframe thead th {\n",
       "        text-align: right;\n",
       "    }\n",
       "</style>\n",
       "<table border=\"1\" class=\"dataframe\">\n",
       "  <thead>\n",
       "    <tr style=\"text-align: right;\">\n",
       "      <th></th>\n",
       "      <th>City</th>\n",
       "      <th>Population</th>\n",
       "      <th>Users</th>\n",
       "    </tr>\n",
       "  </thead>\n",
       "  <tbody>\n",
       "    <tr>\n",
       "      <th>0</th>\n",
       "      <td>NEW YORK NY</td>\n",
       "      <td>8,405,837</td>\n",
       "      <td>302,149</td>\n",
       "    </tr>\n",
       "    <tr>\n",
       "      <th>1</th>\n",
       "      <td>CHICAGO IL</td>\n",
       "      <td>1,955,130</td>\n",
       "      <td>164,468</td>\n",
       "    </tr>\n",
       "    <tr>\n",
       "      <th>2</th>\n",
       "      <td>LOS ANGELES CA</td>\n",
       "      <td>1,595,037</td>\n",
       "      <td>144,132</td>\n",
       "    </tr>\n",
       "    <tr>\n",
       "      <th>3</th>\n",
       "      <td>MIAMI FL</td>\n",
       "      <td>1,339,155</td>\n",
       "      <td>17,675</td>\n",
       "    </tr>\n",
       "    <tr>\n",
       "      <th>4</th>\n",
       "      <td>SILICON VALLEY</td>\n",
       "      <td>1,177,609</td>\n",
       "      <td>27,247</td>\n",
       "    </tr>\n",
       "  </tbody>\n",
       "</table>\n",
       "</div>"
      ],
      "text/plain": [
       "             City   Population      Users\n",
       "0     NEW YORK NY   8,405,837    302,149 \n",
       "1      CHICAGO IL   1,955,130    164,468 \n",
       "2  LOS ANGELES CA   1,595,037    144,132 \n",
       "3        MIAMI FL   1,339,155     17,675 \n",
       "4  SILICON VALLEY   1,177,609     27,247 "
      ]
     },
     "execution_count": 15,
     "metadata": {},
     "output_type": "execute_result"
    }
   ],
   "source": [
    "city_df.head()"
   ]
  },
  {
   "cell_type": "code",
   "execution_count": 16,
   "metadata": {},
   "outputs": [],
   "source": [
    "city_df.replace(',', '', regex=True, inplace=True)"
   ]
  },
  {
   "cell_type": "code",
   "execution_count": 17,
   "metadata": {},
   "outputs": [],
   "source": [
    "c = ['Population', 'Users']\n",
    "city_df[c] = city_df[c].apply(pd.to_numeric,errors='coerce')"
   ]
  },
  {
   "cell_type": "code",
   "execution_count": 18,
   "metadata": {},
   "outputs": [
    {
     "name": "stdout",
     "output_type": "stream",
     "text": [
      "<class 'pandas.core.frame.DataFrame'>\n",
      "RangeIndex: 20 entries, 0 to 19\n",
      "Data columns (total 3 columns):\n",
      " #   Column      Non-Null Count  Dtype \n",
      "---  ------      --------------  ----- \n",
      " 0   City        20 non-null     object\n",
      " 1   Population  20 non-null     int64 \n",
      " 2   Users       20 non-null     int64 \n",
      "dtypes: int64(2), object(1)\n",
      "memory usage: 608.0+ bytes\n"
     ]
    }
   ],
   "source": [
    "city_df.info()"
   ]
  },
  {
   "cell_type": "markdown",
   "metadata": {},
   "source": [
    "### 3. Customer_ID dataset"
   ]
  },
  {
   "cell_type": "code",
   "execution_count": 19,
   "metadata": {},
   "outputs": [
    {
     "data": {
      "text/html": [
       "<div>\n",
       "<style scoped>\n",
       "    .dataframe tbody tr th:only-of-type {\n",
       "        vertical-align: middle;\n",
       "    }\n",
       "\n",
       "    .dataframe tbody tr th {\n",
       "        vertical-align: top;\n",
       "    }\n",
       "\n",
       "    .dataframe thead th {\n",
       "        text-align: right;\n",
       "    }\n",
       "</style>\n",
       "<table border=\"1\" class=\"dataframe\">\n",
       "  <thead>\n",
       "    <tr style=\"text-align: right;\">\n",
       "      <th></th>\n",
       "      <th>Customer ID</th>\n",
       "      <th>Gender</th>\n",
       "      <th>Age</th>\n",
       "      <th>Income (USD/Month)</th>\n",
       "    </tr>\n",
       "  </thead>\n",
       "  <tbody>\n",
       "    <tr>\n",
       "      <th>0</th>\n",
       "      <td>29290</td>\n",
       "      <td>Male</td>\n",
       "      <td>28</td>\n",
       "      <td>10813</td>\n",
       "    </tr>\n",
       "    <tr>\n",
       "      <th>1</th>\n",
       "      <td>27703</td>\n",
       "      <td>Male</td>\n",
       "      <td>27</td>\n",
       "      <td>9237</td>\n",
       "    </tr>\n",
       "    <tr>\n",
       "      <th>2</th>\n",
       "      <td>28712</td>\n",
       "      <td>Male</td>\n",
       "      <td>53</td>\n",
       "      <td>11242</td>\n",
       "    </tr>\n",
       "    <tr>\n",
       "      <th>3</th>\n",
       "      <td>28020</td>\n",
       "      <td>Male</td>\n",
       "      <td>23</td>\n",
       "      <td>23327</td>\n",
       "    </tr>\n",
       "    <tr>\n",
       "      <th>4</th>\n",
       "      <td>27182</td>\n",
       "      <td>Male</td>\n",
       "      <td>33</td>\n",
       "      <td>8536</td>\n",
       "    </tr>\n",
       "  </tbody>\n",
       "</table>\n",
       "</div>"
      ],
      "text/plain": [
       "   Customer ID Gender  Age  Income (USD/Month)\n",
       "0        29290   Male   28               10813\n",
       "1        27703   Male   27                9237\n",
       "2        28712   Male   53               11242\n",
       "3        28020   Male   23               23327\n",
       "4        27182   Male   33                8536"
      ]
     },
     "execution_count": 19,
     "metadata": {},
     "output_type": "execute_result"
    }
   ],
   "source": [
    "Customer_ID_df.head()"
   ]
  },
  {
   "cell_type": "code",
   "execution_count": 20,
   "metadata": {},
   "outputs": [
    {
     "name": "stdout",
     "output_type": "stream",
     "text": [
      "<class 'pandas.core.frame.DataFrame'>\n",
      "RangeIndex: 49171 entries, 0 to 49170\n",
      "Data columns (total 4 columns):\n",
      " #   Column              Non-Null Count  Dtype \n",
      "---  ------              --------------  ----- \n",
      " 0   Customer ID         49171 non-null  int64 \n",
      " 1   Gender              49171 non-null  object\n",
      " 2   Age                 49171 non-null  int64 \n",
      " 3   Income (USD/Month)  49171 non-null  int64 \n",
      "dtypes: int64(3), object(1)\n",
      "memory usage: 1.5+ MB\n"
     ]
    }
   ],
   "source": [
    "Customer_ID_df.info()"
   ]
  },
  {
   "cell_type": "markdown",
   "metadata": {},
   "source": [
    "### 4. Transaction_ID dataset"
   ]
  },
  {
   "cell_type": "code",
   "execution_count": 21,
   "metadata": {},
   "outputs": [
    {
     "data": {
      "text/html": [
       "<div>\n",
       "<style scoped>\n",
       "    .dataframe tbody tr th:only-of-type {\n",
       "        vertical-align: middle;\n",
       "    }\n",
       "\n",
       "    .dataframe tbody tr th {\n",
       "        vertical-align: top;\n",
       "    }\n",
       "\n",
       "    .dataframe thead th {\n",
       "        text-align: right;\n",
       "    }\n",
       "</style>\n",
       "<table border=\"1\" class=\"dataframe\">\n",
       "  <thead>\n",
       "    <tr style=\"text-align: right;\">\n",
       "      <th></th>\n",
       "      <th>Transaction ID</th>\n",
       "      <th>Customer ID</th>\n",
       "      <th>Payment_Mode</th>\n",
       "    </tr>\n",
       "  </thead>\n",
       "  <tbody>\n",
       "    <tr>\n",
       "      <th>0</th>\n",
       "      <td>10000011</td>\n",
       "      <td>29290</td>\n",
       "      <td>Card</td>\n",
       "    </tr>\n",
       "    <tr>\n",
       "      <th>1</th>\n",
       "      <td>10000012</td>\n",
       "      <td>27703</td>\n",
       "      <td>Card</td>\n",
       "    </tr>\n",
       "    <tr>\n",
       "      <th>2</th>\n",
       "      <td>10000013</td>\n",
       "      <td>28712</td>\n",
       "      <td>Cash</td>\n",
       "    </tr>\n",
       "    <tr>\n",
       "      <th>3</th>\n",
       "      <td>10000014</td>\n",
       "      <td>28020</td>\n",
       "      <td>Cash</td>\n",
       "    </tr>\n",
       "    <tr>\n",
       "      <th>4</th>\n",
       "      <td>10000015</td>\n",
       "      <td>27182</td>\n",
       "      <td>Card</td>\n",
       "    </tr>\n",
       "  </tbody>\n",
       "</table>\n",
       "</div>"
      ],
      "text/plain": [
       "   Transaction ID  Customer ID Payment_Mode\n",
       "0        10000011        29290         Card\n",
       "1        10000012        27703         Card\n",
       "2        10000013        28712         Cash\n",
       "3        10000014        28020         Cash\n",
       "4        10000015        27182         Card"
      ]
     },
     "execution_count": 21,
     "metadata": {},
     "output_type": "execute_result"
    }
   ],
   "source": [
    "Transaction_ID_df.head()"
   ]
  },
  {
   "cell_type": "code",
   "execution_count": 22,
   "metadata": {},
   "outputs": [
    {
     "name": "stdout",
     "output_type": "stream",
     "text": [
      "<class 'pandas.core.frame.DataFrame'>\n",
      "RangeIndex: 440098 entries, 0 to 440097\n",
      "Data columns (total 3 columns):\n",
      " #   Column          Non-Null Count   Dtype \n",
      "---  ------          --------------   ----- \n",
      " 0   Transaction ID  440098 non-null  int64 \n",
      " 1   Customer ID     440098 non-null  int64 \n",
      " 2   Payment_Mode    440098 non-null  object\n",
      "dtypes: int64(2), object(1)\n",
      "memory usage: 10.1+ MB\n"
     ]
    }
   ],
   "source": [
    "Transaction_ID_df.info()"
   ]
  },
  {
   "cell_type": "markdown",
   "metadata": {},
   "source": [
    "## 5. US Holidays dataset"
   ]
  },
  {
   "cell_type": "code",
   "execution_count": 23,
   "metadata": {},
   "outputs": [
    {
     "data": {
      "text/html": [
       "<div>\n",
       "<style scoped>\n",
       "    .dataframe tbody tr th:only-of-type {\n",
       "        vertical-align: middle;\n",
       "    }\n",
       "\n",
       "    .dataframe tbody tr th {\n",
       "        vertical-align: top;\n",
       "    }\n",
       "\n",
       "    .dataframe thead th {\n",
       "        text-align: right;\n",
       "    }\n",
       "</style>\n",
       "<table border=\"1\" class=\"dataframe\">\n",
       "  <thead>\n",
       "    <tr style=\"text-align: right;\">\n",
       "      <th></th>\n",
       "      <th>Date</th>\n",
       "      <th>Holiday</th>\n",
       "    </tr>\n",
       "  </thead>\n",
       "  <tbody>\n",
       "    <tr>\n",
       "      <th>0</th>\n",
       "      <td>2012-01-02</td>\n",
       "      <td>New Year Day</td>\n",
       "    </tr>\n",
       "    <tr>\n",
       "      <th>1</th>\n",
       "      <td>2012-01-16</td>\n",
       "      <td>Martin Luther King Jr. Day</td>\n",
       "    </tr>\n",
       "    <tr>\n",
       "      <th>2</th>\n",
       "      <td>2012-02-20</td>\n",
       "      <td>Presidents Day (Washingtons Birthday)</td>\n",
       "    </tr>\n",
       "    <tr>\n",
       "      <th>3</th>\n",
       "      <td>2012-05-28</td>\n",
       "      <td>Memorial Day</td>\n",
       "    </tr>\n",
       "    <tr>\n",
       "      <th>4</th>\n",
       "      <td>2012-07-04</td>\n",
       "      <td>Independence Day</td>\n",
       "    </tr>\n",
       "  </tbody>\n",
       "</table>\n",
       "</div>"
      ],
      "text/plain": [
       "        Date                                Holiday\n",
       "0 2012-01-02                           New Year Day\n",
       "1 2012-01-16             Martin Luther King Jr. Day\n",
       "2 2012-02-20  Presidents Day (Washingtons Birthday)\n",
       "3 2012-05-28                           Memorial Day\n",
       "4 2012-07-04                       Independence Day"
      ]
     },
     "execution_count": 23,
     "metadata": {},
     "output_type": "execute_result"
    }
   ],
   "source": [
    "us_holidays.head()"
   ]
  },
  {
   "cell_type": "code",
   "execution_count": 24,
   "metadata": {},
   "outputs": [
    {
     "name": "stdout",
     "output_type": "stream",
     "text": [
      "<class 'pandas.core.frame.DataFrame'>\n",
      "RangeIndex: 90 entries, 0 to 89\n",
      "Data columns (total 2 columns):\n",
      " #   Column   Non-Null Count  Dtype         \n",
      "---  ------   --------------  -----         \n",
      " 0   Date     90 non-null     datetime64[ns]\n",
      " 1   Holiday  90 non-null     object        \n",
      "dtypes: datetime64[ns](1), object(1)\n",
      "memory usage: 1.5+ KB\n"
     ]
    }
   ],
   "source": [
    "us_holidays.info()"
   ]
  },
  {
   "cell_type": "code",
   "execution_count": 25,
   "metadata": {},
   "outputs": [],
   "source": [
    "holidays_names= list(us_holidays.Holiday.unique())"
   ]
  },
  {
   "cell_type": "markdown",
   "metadata": {},
   "source": [
    "### Dataset Merging"
   ]
  },
  {
   "cell_type": "code",
   "execution_count": 26,
   "metadata": {},
   "outputs": [],
   "source": [
    "df1 = pd.merge(Transaction_ID_df, Customer_ID_df, on='Customer ID')"
   ]
  },
  {
   "cell_type": "code",
   "execution_count": 27,
   "metadata": {},
   "outputs": [],
   "source": [
    "df2 = pd.merge(cab_data, df1, on='Transaction ID')"
   ]
  },
  {
   "cell_type": "code",
   "execution_count": 28,
   "metadata": {},
   "outputs": [],
   "source": [
    "df3 = pd.merge(us_holidays, df2, on='Date', how='right')"
   ]
  },
  {
   "cell_type": "code",
   "execution_count": 29,
   "metadata": {},
   "outputs": [],
   "source": [
    "df = pd.merge(city_df, df3, on='City')"
   ]
  },
  {
   "cell_type": "code",
   "execution_count": 30,
   "metadata": {},
   "outputs": [],
   "source": [
    "to_drop = ['Date of Travel', 'Transaction ID', 'Customer ID']"
   ]
  },
  {
   "cell_type": "code",
   "execution_count": 31,
   "metadata": {},
   "outputs": [],
   "source": [
    "df.drop(to_drop, axis=1, inplace=True)"
   ]
  },
  {
   "cell_type": "markdown",
   "metadata": {},
   "source": [
    "### Profit calculation:"
   ]
  },
  {
   "cell_type": "code",
   "execution_count": 32,
   "metadata": {},
   "outputs": [],
   "source": [
    "df['Profit'] = df['Price Charged'] - df['Cost of Trip']"
   ]
  },
  {
   "cell_type": "code",
   "execution_count": 33,
   "metadata": {},
   "outputs": [],
   "source": [
    "df['Margin'] = ((df['Price Charged'] - df['Cost of Trip']) / df['Price Charged']) * 100"
   ]
  },
  {
   "cell_type": "code",
   "execution_count": 34,
   "metadata": {},
   "outputs": [],
   "source": [
    "df['Markup'] = ((df['Price Charged'] - df['Cost of Trip']) / df['Cost of Trip']) * 100"
   ]
  },
  {
   "cell_type": "markdown",
   "metadata": {},
   "source": [
    "### Final dataframe:"
   ]
  },
  {
   "cell_type": "code",
   "execution_count": 35,
   "metadata": {},
   "outputs": [
    {
     "data": {
      "text/html": [
       "<div>\n",
       "<style scoped>\n",
       "    .dataframe tbody tr th:only-of-type {\n",
       "        vertical-align: middle;\n",
       "    }\n",
       "\n",
       "    .dataframe tbody tr th {\n",
       "        vertical-align: top;\n",
       "    }\n",
       "\n",
       "    .dataframe thead th {\n",
       "        text-align: right;\n",
       "    }\n",
       "</style>\n",
       "<table border=\"1\" class=\"dataframe\">\n",
       "  <thead>\n",
       "    <tr style=\"text-align: right;\">\n",
       "      <th></th>\n",
       "      <th>City</th>\n",
       "      <th>Population</th>\n",
       "      <th>Users</th>\n",
       "      <th>Date</th>\n",
       "      <th>Holiday</th>\n",
       "      <th>Company</th>\n",
       "      <th>KM Travelled</th>\n",
       "      <th>Price Charged</th>\n",
       "      <th>Cost of Trip</th>\n",
       "      <th>Payment_Mode</th>\n",
       "      <th>Gender</th>\n",
       "      <th>Age</th>\n",
       "      <th>Income (USD/Month)</th>\n",
       "      <th>Profit</th>\n",
       "      <th>Margin</th>\n",
       "      <th>Markup</th>\n",
       "    </tr>\n",
       "  </thead>\n",
       "  <tbody>\n",
       "    <tr>\n",
       "      <th>0</th>\n",
       "      <td>NEW YORK NY</td>\n",
       "      <td>8405837</td>\n",
       "      <td>302149</td>\n",
       "      <td>2016-01-02</td>\n",
       "      <td>NaN</td>\n",
       "      <td>Yellow Cab</td>\n",
       "      <td>46.80</td>\n",
       "      <td>1391.91</td>\n",
       "      <td>595.2960</td>\n",
       "      <td>Card</td>\n",
       "      <td>Male</td>\n",
       "      <td>40</td>\n",
       "      <td>11462</td>\n",
       "      <td>796.6140</td>\n",
       "      <td>57.231718</td>\n",
       "      <td>133.818134</td>\n",
       "    </tr>\n",
       "    <tr>\n",
       "      <th>1</th>\n",
       "      <td>NEW YORK NY</td>\n",
       "      <td>8405837</td>\n",
       "      <td>302149</td>\n",
       "      <td>2016-01-02</td>\n",
       "      <td>NaN</td>\n",
       "      <td>Yellow Cab</td>\n",
       "      <td>37.12</td>\n",
       "      <td>1238.35</td>\n",
       "      <td>507.8016</td>\n",
       "      <td>Card</td>\n",
       "      <td>Male</td>\n",
       "      <td>34</td>\n",
       "      <td>2589</td>\n",
       "      <td>730.5484</td>\n",
       "      <td>58.993693</td>\n",
       "      <td>143.864927</td>\n",
       "    </tr>\n",
       "    <tr>\n",
       "      <th>2</th>\n",
       "      <td>NEW YORK NY</td>\n",
       "      <td>8405837</td>\n",
       "      <td>302149</td>\n",
       "      <td>2016-01-02</td>\n",
       "      <td>NaN</td>\n",
       "      <td>Yellow Cab</td>\n",
       "      <td>38.88</td>\n",
       "      <td>1211.78</td>\n",
       "      <td>517.8816</td>\n",
       "      <td>Cash</td>\n",
       "      <td>Male</td>\n",
       "      <td>45</td>\n",
       "      <td>12186</td>\n",
       "      <td>693.8984</td>\n",
       "      <td>57.262737</td>\n",
       "      <td>133.987846</td>\n",
       "    </tr>\n",
       "    <tr>\n",
       "      <th>3</th>\n",
       "      <td>NEW YORK NY</td>\n",
       "      <td>8405837</td>\n",
       "      <td>302149</td>\n",
       "      <td>2016-01-02</td>\n",
       "      <td>NaN</td>\n",
       "      <td>Pink Cab</td>\n",
       "      <td>2.10</td>\n",
       "      <td>37.18</td>\n",
       "      <td>21.4200</td>\n",
       "      <td>Cash</td>\n",
       "      <td>Male</td>\n",
       "      <td>28</td>\n",
       "      <td>15285</td>\n",
       "      <td>15.7600</td>\n",
       "      <td>42.388381</td>\n",
       "      <td>73.576097</td>\n",
       "    </tr>\n",
       "    <tr>\n",
       "      <th>4</th>\n",
       "      <td>NEW YORK NY</td>\n",
       "      <td>8405837</td>\n",
       "      <td>302149</td>\n",
       "      <td>2016-01-02</td>\n",
       "      <td>NaN</td>\n",
       "      <td>Pink Cab</td>\n",
       "      <td>32.64</td>\n",
       "      <td>498.60</td>\n",
       "      <td>349.2480</td>\n",
       "      <td>Card</td>\n",
       "      <td>Male</td>\n",
       "      <td>52</td>\n",
       "      <td>15974</td>\n",
       "      <td>149.3520</td>\n",
       "      <td>29.954272</td>\n",
       "      <td>42.763881</td>\n",
       "    </tr>\n",
       "  </tbody>\n",
       "</table>\n",
       "</div>"
      ],
      "text/plain": [
       "          City  Population   Users       Date Holiday     Company  \\\n",
       "0  NEW YORK NY     8405837  302149 2016-01-02     NaN  Yellow Cab   \n",
       "1  NEW YORK NY     8405837  302149 2016-01-02     NaN  Yellow Cab   \n",
       "2  NEW YORK NY     8405837  302149 2016-01-02     NaN  Yellow Cab   \n",
       "3  NEW YORK NY     8405837  302149 2016-01-02     NaN    Pink Cab   \n",
       "4  NEW YORK NY     8405837  302149 2016-01-02     NaN    Pink Cab   \n",
       "\n",
       "   KM Travelled  Price Charged  Cost of Trip Payment_Mode Gender  Age  \\\n",
       "0         46.80        1391.91      595.2960         Card   Male   40   \n",
       "1         37.12        1238.35      507.8016         Card   Male   34   \n",
       "2         38.88        1211.78      517.8816         Cash   Male   45   \n",
       "3          2.10          37.18       21.4200         Cash   Male   28   \n",
       "4         32.64         498.60      349.2480         Card   Male   52   \n",
       "\n",
       "   Income (USD/Month)    Profit     Margin      Markup  \n",
       "0               11462  796.6140  57.231718  133.818134  \n",
       "1                2589  730.5484  58.993693  143.864927  \n",
       "2               12186  693.8984  57.262737  133.987846  \n",
       "3               15285   15.7600  42.388381   73.576097  \n",
       "4               15974  149.3520  29.954272   42.763881  "
      ]
     },
     "execution_count": 35,
     "metadata": {},
     "output_type": "execute_result"
    }
   ],
   "source": [
    "df.head()"
   ]
  },
  {
   "cell_type": "code",
   "execution_count": 36,
   "metadata": {},
   "outputs": [
    {
     "name": "stdout",
     "output_type": "stream",
     "text": [
      "<class 'pandas.core.frame.DataFrame'>\n",
      "Int64Index: 359392 entries, 0 to 359391\n",
      "Data columns (total 16 columns):\n",
      " #   Column              Non-Null Count   Dtype         \n",
      "---  ------              --------------   -----         \n",
      " 0   City                359392 non-null  object        \n",
      " 1   Population          359392 non-null  int64         \n",
      " 2   Users               359392 non-null  int64         \n",
      " 3   Date                359392 non-null  datetime64[ns]\n",
      " 4   Holiday             7577 non-null    object        \n",
      " 5   Company             359392 non-null  object        \n",
      " 6   KM Travelled        359392 non-null  float64       \n",
      " 7   Price Charged       359392 non-null  float64       \n",
      " 8   Cost of Trip        359392 non-null  float64       \n",
      " 9   Payment_Mode        359392 non-null  object        \n",
      " 10  Gender              359392 non-null  object        \n",
      " 11  Age                 359392 non-null  int64         \n",
      " 12  Income (USD/Month)  359392 non-null  int64         \n",
      " 13  Profit              359392 non-null  float64       \n",
      " 14  Margin              359392 non-null  float64       \n",
      " 15  Markup              359392 non-null  float64       \n",
      "dtypes: datetime64[ns](1), float64(6), int64(4), object(5)\n",
      "memory usage: 46.6+ MB\n"
     ]
    }
   ],
   "source": [
    "df.info()"
   ]
  },
  {
   "cell_type": "code",
   "execution_count": 37,
   "metadata": {},
   "outputs": [
    {
     "data": {
      "text/plain": [
       "array(['NEW YORK NY', 'CHICAGO IL', 'LOS ANGELES CA', 'MIAMI FL',\n",
       "       'SILICON VALLEY', 'ORANGE COUNTY', 'SAN DIEGO CA', 'PHOENIX AZ',\n",
       "       'DALLAS TX', 'ATLANTA GA', 'DENVER CO', 'AUSTIN TX', 'SEATTLE WA',\n",
       "       'TUCSON AZ', 'SACRAMENTO CA', 'PITTSBURGH PA', 'WASHINGTON DC',\n",
       "       'NASHVILLE TN', 'BOSTON MA'], dtype=object)"
      ]
     },
     "execution_count": 37,
     "metadata": {},
     "output_type": "execute_result"
    }
   ],
   "source": [
    "df.City.unique()"
   ]
  },
  {
   "cell_type": "code",
   "execution_count": 38,
   "metadata": {},
   "outputs": [
    {
     "data": {
      "text/plain": [
       "array(['Male', 'Female'], dtype=object)"
      ]
     },
     "execution_count": 38,
     "metadata": {},
     "output_type": "execute_result"
    }
   ],
   "source": [
    "df.Gender.unique()"
   ]
  },
  {
   "cell_type": "code",
   "execution_count": 39,
   "metadata": {},
   "outputs": [
    {
     "data": {
      "text/plain": [
       "array(['Yellow Cab', 'Pink Cab'], dtype=object)"
      ]
     },
     "execution_count": 39,
     "metadata": {},
     "output_type": "execute_result"
    }
   ],
   "source": [
    "df.Company.unique()"
   ]
  },
  {
   "cell_type": "code",
   "execution_count": 40,
   "metadata": {},
   "outputs": [
    {
     "data": {
      "text/plain": [
       "array(['Card', 'Cash'], dtype=object)"
      ]
     },
     "execution_count": 40,
     "metadata": {},
     "output_type": "execute_result"
    }
   ],
   "source": [
    "df.Payment_Mode.unique()"
   ]
  },
  {
   "cell_type": "code",
   "execution_count": 41,
   "metadata": {},
   "outputs": [
    {
     "data": {
      "text/html": [
       "<div>\n",
       "<style scoped>\n",
       "    .dataframe tbody tr th:only-of-type {\n",
       "        vertical-align: middle;\n",
       "    }\n",
       "\n",
       "    .dataframe tbody tr th {\n",
       "        vertical-align: top;\n",
       "    }\n",
       "\n",
       "    .dataframe thead th {\n",
       "        text-align: right;\n",
       "    }\n",
       "</style>\n",
       "<table border=\"1\" class=\"dataframe\">\n",
       "  <thead>\n",
       "    <tr style=\"text-align: right;\">\n",
       "      <th></th>\n",
       "      <th>Population</th>\n",
       "      <th>Users</th>\n",
       "      <th>KM Travelled</th>\n",
       "      <th>Price Charged</th>\n",
       "      <th>Cost of Trip</th>\n",
       "      <th>Age</th>\n",
       "      <th>Income (USD/Month)</th>\n",
       "      <th>Profit</th>\n",
       "      <th>Margin</th>\n",
       "      <th>Markup</th>\n",
       "    </tr>\n",
       "  </thead>\n",
       "  <tbody>\n",
       "    <tr>\n",
       "      <th>count</th>\n",
       "      <td>3.593920e+05</td>\n",
       "      <td>359392.000000</td>\n",
       "      <td>359392.000000</td>\n",
       "      <td>359392.000000</td>\n",
       "      <td>359392.000000</td>\n",
       "      <td>359392.000000</td>\n",
       "      <td>359392.000000</td>\n",
       "      <td>359392.000000</td>\n",
       "      <td>359392.000000</td>\n",
       "      <td>359392.000000</td>\n",
       "    </tr>\n",
       "    <tr>\n",
       "      <th>mean</th>\n",
       "      <td>3.132198e+06</td>\n",
       "      <td>158365.582267</td>\n",
       "      <td>22.567254</td>\n",
       "      <td>423.443311</td>\n",
       "      <td>286.190113</td>\n",
       "      <td>35.336705</td>\n",
       "      <td>15048.822937</td>\n",
       "      <td>137.253198</td>\n",
       "      <td>27.128413</td>\n",
       "      <td>47.523115</td>\n",
       "    </tr>\n",
       "    <tr>\n",
       "      <th>std</th>\n",
       "      <td>3.315194e+06</td>\n",
       "      <td>100850.051020</td>\n",
       "      <td>12.233526</td>\n",
       "      <td>274.378911</td>\n",
       "      <td>157.993661</td>\n",
       "      <td>12.594234</td>\n",
       "      <td>7969.409482</td>\n",
       "      <td>160.311840</td>\n",
       "      <td>18.550100</td>\n",
       "      <td>42.571507</td>\n",
       "    </tr>\n",
       "    <tr>\n",
       "      <th>min</th>\n",
       "      <td>2.489680e+05</td>\n",
       "      <td>3643.000000</td>\n",
       "      <td>1.900000</td>\n",
       "      <td>15.600000</td>\n",
       "      <td>19.000000</td>\n",
       "      <td>18.000000</td>\n",
       "      <td>2000.000000</td>\n",
       "      <td>-220.060000</td>\n",
       "      <td>-69.301505</td>\n",
       "      <td>-40.933780</td>\n",
       "    </tr>\n",
       "    <tr>\n",
       "      <th>25%</th>\n",
       "      <td>6.712380e+05</td>\n",
       "      <td>80021.000000</td>\n",
       "      <td>12.000000</td>\n",
       "      <td>206.437500</td>\n",
       "      <td>151.200000</td>\n",
       "      <td>25.000000</td>\n",
       "      <td>8424.000000</td>\n",
       "      <td>28.012000</td>\n",
       "      <td>13.855876</td>\n",
       "      <td>16.084529</td>\n",
       "    </tr>\n",
       "    <tr>\n",
       "      <th>50%</th>\n",
       "      <td>1.595037e+06</td>\n",
       "      <td>144132.000000</td>\n",
       "      <td>22.440000</td>\n",
       "      <td>386.360000</td>\n",
       "      <td>282.480000</td>\n",
       "      <td>33.000000</td>\n",
       "      <td>14685.000000</td>\n",
       "      <td>81.962000</td>\n",
       "      <td>26.430302</td>\n",
       "      <td>35.925527</td>\n",
       "    </tr>\n",
       "    <tr>\n",
       "      <th>75%</th>\n",
       "      <td>8.405837e+06</td>\n",
       "      <td>302149.000000</td>\n",
       "      <td>32.960000</td>\n",
       "      <td>583.660000</td>\n",
       "      <td>413.683200</td>\n",
       "      <td>42.000000</td>\n",
       "      <td>21035.000000</td>\n",
       "      <td>190.030000</td>\n",
       "      <td>41.611989</td>\n",
       "      <td>71.268038</td>\n",
       "    </tr>\n",
       "    <tr>\n",
       "      <th>max</th>\n",
       "      <td>8.405837e+06</td>\n",
       "      <td>302149.000000</td>\n",
       "      <td>48.000000</td>\n",
       "      <td>2048.030000</td>\n",
       "      <td>691.200000</td>\n",
       "      <td>65.000000</td>\n",
       "      <td>35000.000000</td>\n",
       "      <td>1463.966000</td>\n",
       "      <td>76.202636</td>\n",
       "      <td>320.214607</td>\n",
       "    </tr>\n",
       "  </tbody>\n",
       "</table>\n",
       "</div>"
      ],
      "text/plain": [
       "         Population          Users   KM Travelled  Price Charged  \\\n",
       "count  3.593920e+05  359392.000000  359392.000000  359392.000000   \n",
       "mean   3.132198e+06  158365.582267      22.567254     423.443311   \n",
       "std    3.315194e+06  100850.051020      12.233526     274.378911   \n",
       "min    2.489680e+05    3643.000000       1.900000      15.600000   \n",
       "25%    6.712380e+05   80021.000000      12.000000     206.437500   \n",
       "50%    1.595037e+06  144132.000000      22.440000     386.360000   \n",
       "75%    8.405837e+06  302149.000000      32.960000     583.660000   \n",
       "max    8.405837e+06  302149.000000      48.000000    2048.030000   \n",
       "\n",
       "        Cost of Trip            Age  Income (USD/Month)         Profit  \\\n",
       "count  359392.000000  359392.000000       359392.000000  359392.000000   \n",
       "mean      286.190113      35.336705        15048.822937     137.253198   \n",
       "std       157.993661      12.594234         7969.409482     160.311840   \n",
       "min        19.000000      18.000000         2000.000000    -220.060000   \n",
       "25%       151.200000      25.000000         8424.000000      28.012000   \n",
       "50%       282.480000      33.000000        14685.000000      81.962000   \n",
       "75%       413.683200      42.000000        21035.000000     190.030000   \n",
       "max       691.200000      65.000000        35000.000000    1463.966000   \n",
       "\n",
       "              Margin         Markup  \n",
       "count  359392.000000  359392.000000  \n",
       "mean       27.128413      47.523115  \n",
       "std        18.550100      42.571507  \n",
       "min       -69.301505     -40.933780  \n",
       "25%        13.855876      16.084529  \n",
       "50%        26.430302      35.925527  \n",
       "75%        41.611989      71.268038  \n",
       "max        76.202636     320.214607  "
      ]
     },
     "execution_count": 41,
     "metadata": {},
     "output_type": "execute_result"
    }
   ],
   "source": [
    "df.describe()"
   ]
  },
  {
   "cell_type": "code",
   "execution_count": 42,
   "metadata": {},
   "outputs": [
    {
     "data": {
      "text/plain": [
       "Yellow Cab    274681\n",
       "Pink Cab       84711\n",
       "Name: Company, dtype: int64"
      ]
     },
     "execution_count": 42,
     "metadata": {},
     "output_type": "execute_result"
    }
   ],
   "source": [
    "df.Company.value_counts()"
   ]
  },
  {
   "cell_type": "code",
   "execution_count": 43,
   "metadata": {},
   "outputs": [],
   "source": [
    "#df.to_csv('G2M_Case_study_finalds.csv')"
   ]
  },
  {
   "cell_type": "markdown",
   "metadata": {},
   "source": [
    "## Data Visualization"
   ]
  },
  {
   "cell_type": "markdown",
   "metadata": {},
   "source": [
    "### Users characterization"
   ]
  },
  {
   "cell_type": "code",
   "execution_count": 44,
   "metadata": {},
   "outputs": [
    {
     "data": {
      "image/png": "[encoded data removed]",
      "text/plain": [
       "<Figure size 1080x720 with 4 Axes>"
      ]
     },
     "metadata": {
      "needs_background": "light"
     },
     "output_type": "display_data"
    }
   ],
   "source": [
    "#Gender and Age analysis for each company\n",
    "from matplotlib import rcParams\n",
    "\n",
    "# figure size in inches\n",
    "rcParams['figure.figsize'] = 5.7,4.27\n",
    "\n",
    "g = sns.displot(x='Age', data=df, binwidth=3, col='Company', row='Gender',aspect=1.5)\n",
    "\n",
    "g.fig.suptitle('Gender and Age wise analysis per company', y=1.05, fontsize=24, fontdict={\"weight\": \"bold\"})\n",
    "\n",
    "plt.show()"
   ]
  },
  {
   "cell_type": "markdown",
   "metadata": {},
   "source": [
    "From this plot we can infer that the Age and Gender distribution for both Companies is comparable. For both companies, the majority of their users are between 18 and 40 years old, most of them men. The difference in gender is best observed in the Yellow Cab company."
   ]
  },
  {
   "cell_type": "code",
   "execution_count": 45,
   "metadata": {},
   "outputs": [
    {
     "data": {
      "image/png": "[encoded data removed]",
      "text/plain": [
       "<Figure size 410.4x307.44 with 1 Axes>"
      ]
     },
     "metadata": {
      "needs_background": "light"
     },
     "output_type": "display_data"
    }
   ],
   "source": [
    "#Number of users by gender\n",
    "sns.countplot(x='Company', data=df, hue='Gender')\n",
    "plt.ylabel('Number of users')\n",
    "plt.title('Number of users by their gender')\n",
    "plt.show()"
   ]
  },
  {
   "cell_type": "markdown",
   "metadata": {},
   "source": [
    "For both companies the majority of their users are men."
   ]
  },
  {
   "cell_type": "code",
   "execution_count": 46,
   "metadata": {},
   "outputs": [
    {
     "data": {
      "image/png": "[encoded data removed]",
      "text/plain": [
       "<Figure size 410.4x307.44 with 1 Axes>"
      ]
     },
     "metadata": {
      "needs_background": "light"
     },
     "output_type": "display_data"
    }
   ],
   "source": [
    "sns.countplot(x='Company', data=df, hue='Payment_Mode')\n",
    "plt.ylabel('Number of users')\n",
    "plt.xlabel('Company')\n",
    "plt.title('Number of users by their payment mode')\n",
    "plt.show()"
   ]
  },
  {
   "cell_type": "markdown",
   "metadata": {},
   "source": [
    "For both companies the payment mode most used is card."
   ]
  },
  {
   "cell_type": "code",
   "execution_count": 47,
   "metadata": {},
   "outputs": [],
   "source": [
    "#Data transformation for ploting number of users per city\n",
    "df_plot = df.groupby(['Company', 'City']).size().reset_index().pivot(columns='Company', index='City', values=0)"
   ]
  },
  {
   "cell_type": "code",
   "execution_count": 48,
   "metadata": {},
   "outputs": [
    {
     "data": {
      "text/html": [
       "<div>\n",
       "<style scoped>\n",
       "    .dataframe tbody tr th:only-of-type {\n",
       "        vertical-align: middle;\n",
       "    }\n",
       "\n",
       "    .dataframe tbody tr th {\n",
       "        vertical-align: top;\n",
       "    }\n",
       "\n",
       "    .dataframe thead th {\n",
       "        text-align: right;\n",
       "    }\n",
       "</style>\n",
       "<table border=\"1\" class=\"dataframe\">\n",
       "  <thead>\n",
       "    <tr style=\"text-align: right;\">\n",
       "      <th>Company</th>\n",
       "      <th>Pink Cab</th>\n",
       "      <th>Yellow Cab</th>\n",
       "      <th>Total</th>\n",
       "    </tr>\n",
       "    <tr>\n",
       "      <th>City</th>\n",
       "      <th></th>\n",
       "      <th></th>\n",
       "      <th></th>\n",
       "    </tr>\n",
       "  </thead>\n",
       "  <tbody>\n",
       "    <tr>\n",
       "      <th>PITTSBURGH PA</th>\n",
       "      <td>682</td>\n",
       "      <td>631</td>\n",
       "      <td>1313</td>\n",
       "    </tr>\n",
       "    <tr>\n",
       "      <th>TUCSON AZ</th>\n",
       "      <td>799</td>\n",
       "      <td>1132</td>\n",
       "      <td>1931</td>\n",
       "    </tr>\n",
       "    <tr>\n",
       "      <th>PHOENIX AZ</th>\n",
       "      <td>864</td>\n",
       "      <td>1200</td>\n",
       "      <td>2064</td>\n",
       "    </tr>\n",
       "    <tr>\n",
       "      <th>SACRAMENTO CA</th>\n",
       "      <td>1334</td>\n",
       "      <td>1033</td>\n",
       "      <td>2367</td>\n",
       "    </tr>\n",
       "    <tr>\n",
       "      <th>NASHVILLE TN</th>\n",
       "      <td>1841</td>\n",
       "      <td>1169</td>\n",
       "      <td>3010</td>\n",
       "    </tr>\n",
       "    <tr>\n",
       "      <th>DENVER CO</th>\n",
       "      <td>1394</td>\n",
       "      <td>2431</td>\n",
       "      <td>3825</td>\n",
       "    </tr>\n",
       "    <tr>\n",
       "      <th>ORANGE COUNTY</th>\n",
       "      <td>1513</td>\n",
       "      <td>2469</td>\n",
       "      <td>3982</td>\n",
       "    </tr>\n",
       "    <tr>\n",
       "      <th>AUSTIN TX</th>\n",
       "      <td>1868</td>\n",
       "      <td>3028</td>\n",
       "      <td>4896</td>\n",
       "    </tr>\n",
       "    <tr>\n",
       "      <th>MIAMI FL</th>\n",
       "      <td>2002</td>\n",
       "      <td>4452</td>\n",
       "      <td>6454</td>\n",
       "    </tr>\n",
       "    <tr>\n",
       "      <th>DALLAS TX</th>\n",
       "      <td>1380</td>\n",
       "      <td>5637</td>\n",
       "      <td>7017</td>\n",
       "    </tr>\n",
       "    <tr>\n",
       "      <th>ATLANTA GA</th>\n",
       "      <td>1762</td>\n",
       "      <td>5795</td>\n",
       "      <td>7557</td>\n",
       "    </tr>\n",
       "    <tr>\n",
       "      <th>SEATTLE WA</th>\n",
       "      <td>2732</td>\n",
       "      <td>5265</td>\n",
       "      <td>7997</td>\n",
       "    </tr>\n",
       "    <tr>\n",
       "      <th>SILICON VALLEY</th>\n",
       "      <td>3797</td>\n",
       "      <td>4722</td>\n",
       "      <td>8519</td>\n",
       "    </tr>\n",
       "    <tr>\n",
       "      <th>SAN DIEGO CA</th>\n",
       "      <td>10672</td>\n",
       "      <td>9816</td>\n",
       "      <td>20488</td>\n",
       "    </tr>\n",
       "    <tr>\n",
       "      <th>BOSTON MA</th>\n",
       "      <td>5186</td>\n",
       "      <td>24506</td>\n",
       "      <td>29692</td>\n",
       "    </tr>\n",
       "    <tr>\n",
       "      <th>WASHINGTON DC</th>\n",
       "      <td>3692</td>\n",
       "      <td>40045</td>\n",
       "      <td>43737</td>\n",
       "    </tr>\n",
       "    <tr>\n",
       "      <th>LOS ANGELES CA</th>\n",
       "      <td>19865</td>\n",
       "      <td>28168</td>\n",
       "      <td>48033</td>\n",
       "    </tr>\n",
       "    <tr>\n",
       "      <th>CHICAGO IL</th>\n",
       "      <td>9361</td>\n",
       "      <td>47264</td>\n",
       "      <td>56625</td>\n",
       "    </tr>\n",
       "    <tr>\n",
       "      <th>NEW YORK NY</th>\n",
       "      <td>13967</td>\n",
       "      <td>85918</td>\n",
       "      <td>99885</td>\n",
       "    </tr>\n",
       "  </tbody>\n",
       "</table>\n",
       "</div>"
      ],
      "text/plain": [
       "Company         Pink Cab  Yellow Cab  Total\n",
       "City                                       \n",
       "PITTSBURGH PA        682         631   1313\n",
       "TUCSON AZ            799        1132   1931\n",
       "PHOENIX AZ           864        1200   2064\n",
       "SACRAMENTO CA       1334        1033   2367\n",
       "NASHVILLE TN        1841        1169   3010\n",
       "DENVER CO           1394        2431   3825\n",
       "ORANGE COUNTY       1513        2469   3982\n",
       "AUSTIN TX           1868        3028   4896\n",
       "MIAMI FL            2002        4452   6454\n",
       "DALLAS TX           1380        5637   7017\n",
       "ATLANTA GA          1762        5795   7557\n",
       "SEATTLE WA          2732        5265   7997\n",
       "SILICON VALLEY      3797        4722   8519\n",
       "SAN DIEGO CA       10672        9816  20488\n",
       "BOSTON MA           5186       24506  29692\n",
       "WASHINGTON DC       3692       40045  43737\n",
       "LOS ANGELES CA     19865       28168  48033\n",
       "CHICAGO IL          9361       47264  56625\n",
       "NEW YORK NY        13967       85918  99885"
      ]
     },
     "execution_count": 48,
     "metadata": {},
     "output_type": "execute_result"
    }
   ],
   "source": [
    "df_plot['Total'] = df_plot['Yellow Cab'] + df_plot['Pink Cab']\n",
    "df_plot_sorted = df_plot.sort_values(by='Total', ascending=True)\n",
    "df_plot_sorted"
   ]
  },
  {
   "cell_type": "code",
   "execution_count": 49,
   "metadata": {},
   "outputs": [
    {
     "data": {
      "image/png": "[encoded data removed]",
      "text/plain": [
       "<Figure size 864x720 with 1 Axes>"
      ]
     },
     "metadata": {
      "needs_background": "light"
     },
     "output_type": "display_data"
    }
   ],
   "source": [
    "companies = ['Yellow Cab', 'Pink Cab']\n",
    "colors = ['#1D2F6F', '#8390FA']\n",
    "labels = ['Yellow Cab', 'Pink Cab']\n",
    "\n",
    "fig, ax = plt.subplots(1, figsize=(12, 10))\n",
    "\n",
    "left = len(df_plot_sorted) * [0]\n",
    "for idx, name in enumerate(companies):\n",
    "    plt.barh(df_plot_sorted.index, df_plot_sorted[name], left = left, color=colors[idx])\n",
    "    left = left + df_plot_sorted[name]\n",
    "    \n",
    "plt.title('City wise cab users covered by each company\\n', loc='left', color='black', fontsize=14)\n",
    "plt.legend(labels, bbox_to_anchor=([0.55, 1, 0, 0]), ncol=4, frameon=False)\n",
    "plt.xlabel('Number of users')\n",
    "\n",
    "ax.spines['right'].set_visible(False)\n",
    "ax.spines['left'].set_visible(False)\n",
    "ax.spines['top'].set_visible(False)\n",
    "ax.spines['bottom'].set_visible(False)\n",
    "\n",
    "plt.ylim(-0.5, ax.get_yticks()[-1] + 0.5)\n",
    "ax.set_axisbelow(True)\n",
    "ax.xaxis.grid(color='gray', linestyle='dashed')\n",
    "\n",
    "plt.show()"
   ]
  },
  {
   "cell_type": "markdown",
   "metadata": {},
   "source": [
    "The Yellow cab company dominates the market over the Pink cab company in New York. Only in Los Angeles a comparable aumount of users is found between both companies."
   ]
  },
  {
   "cell_type": "markdown",
   "metadata": {},
   "source": [
    "### Income and Profit analysis"
   ]
  },
  {
   "cell_type": "code",
   "execution_count": 50,
   "metadata": {},
   "outputs": [],
   "source": [
    "income_analysis = df[['Company', 'Income (USD/Month)', 'Profit']]"
   ]
  },
  {
   "cell_type": "code",
   "execution_count": 51,
   "metadata": {},
   "outputs": [
    {
     "data": {
      "text/html": [
       "<div>\n",
       "<style scoped>\n",
       "    .dataframe tbody tr th:only-of-type {\n",
       "        vertical-align: middle;\n",
       "    }\n",
       "\n",
       "    .dataframe tbody tr th {\n",
       "        vertical-align: top;\n",
       "    }\n",
       "\n",
       "    .dataframe thead th {\n",
       "        text-align: right;\n",
       "    }\n",
       "</style>\n",
       "<table border=\"1\" class=\"dataframe\">\n",
       "  <thead>\n",
       "    <tr style=\"text-align: right;\">\n",
       "      <th></th>\n",
       "      <th>Company</th>\n",
       "      <th>Income (USD/Month)</th>\n",
       "      <th>Profit</th>\n",
       "    </tr>\n",
       "  </thead>\n",
       "  <tbody>\n",
       "    <tr>\n",
       "      <th>0</th>\n",
       "      <td>Yellow Cab</td>\n",
       "      <td>11462</td>\n",
       "      <td>796.6140</td>\n",
       "    </tr>\n",
       "    <tr>\n",
       "      <th>1</th>\n",
       "      <td>Yellow Cab</td>\n",
       "      <td>2589</td>\n",
       "      <td>730.5484</td>\n",
       "    </tr>\n",
       "    <tr>\n",
       "      <th>2</th>\n",
       "      <td>Yellow Cab</td>\n",
       "      <td>12186</td>\n",
       "      <td>693.8984</td>\n",
       "    </tr>\n",
       "    <tr>\n",
       "      <th>3</th>\n",
       "      <td>Pink Cab</td>\n",
       "      <td>15285</td>\n",
       "      <td>15.7600</td>\n",
       "    </tr>\n",
       "    <tr>\n",
       "      <th>4</th>\n",
       "      <td>Pink Cab</td>\n",
       "      <td>15974</td>\n",
       "      <td>149.3520</td>\n",
       "    </tr>\n",
       "  </tbody>\n",
       "</table>\n",
       "</div>"
      ],
      "text/plain": [
       "      Company  Income (USD/Month)    Profit\n",
       "0  Yellow Cab               11462  796.6140\n",
       "1  Yellow Cab                2589  730.5484\n",
       "2  Yellow Cab               12186  693.8984\n",
       "3    Pink Cab               15285   15.7600\n",
       "4    Pink Cab               15974  149.3520"
      ]
     },
     "execution_count": 51,
     "metadata": {},
     "output_type": "execute_result"
    }
   ],
   "source": [
    "income_analysis.head()"
   ]
  },
  {
   "cell_type": "code",
   "execution_count": 52,
   "metadata": {},
   "outputs": [
    {
     "data": {
      "text/html": [
       "<div>\n",
       "<style scoped>\n",
       "    .dataframe tbody tr th:only-of-type {\n",
       "        vertical-align: middle;\n",
       "    }\n",
       "\n",
       "    .dataframe tbody tr th {\n",
       "        vertical-align: top;\n",
       "    }\n",
       "\n",
       "    .dataframe thead th {\n",
       "        text-align: right;\n",
       "    }\n",
       "</style>\n",
       "<table border=\"1\" class=\"dataframe\">\n",
       "  <thead>\n",
       "    <tr style=\"text-align: right;\">\n",
       "      <th></th>\n",
       "      <th>Income (USD/Month)</th>\n",
       "      <th>Profit</th>\n",
       "    </tr>\n",
       "  </thead>\n",
       "  <tbody>\n",
       "    <tr>\n",
       "      <th>count</th>\n",
       "      <td>359392.000000</td>\n",
       "      <td>359392.000000</td>\n",
       "    </tr>\n",
       "    <tr>\n",
       "      <th>mean</th>\n",
       "      <td>15048.822937</td>\n",
       "      <td>137.253198</td>\n",
       "    </tr>\n",
       "    <tr>\n",
       "      <th>std</th>\n",
       "      <td>7969.409482</td>\n",
       "      <td>160.311840</td>\n",
       "    </tr>\n",
       "    <tr>\n",
       "      <th>min</th>\n",
       "      <td>2000.000000</td>\n",
       "      <td>-220.060000</td>\n",
       "    </tr>\n",
       "    <tr>\n",
       "      <th>25%</th>\n",
       "      <td>8424.000000</td>\n",
       "      <td>28.012000</td>\n",
       "    </tr>\n",
       "    <tr>\n",
       "      <th>50%</th>\n",
       "      <td>14685.000000</td>\n",
       "      <td>81.962000</td>\n",
       "    </tr>\n",
       "    <tr>\n",
       "      <th>75%</th>\n",
       "      <td>21035.000000</td>\n",
       "      <td>190.030000</td>\n",
       "    </tr>\n",
       "    <tr>\n",
       "      <th>max</th>\n",
       "      <td>35000.000000</td>\n",
       "      <td>1463.966000</td>\n",
       "    </tr>\n",
       "  </tbody>\n",
       "</table>\n",
       "</div>"
      ],
      "text/plain": [
       "       Income (USD/Month)         Profit\n",
       "count       359392.000000  359392.000000\n",
       "mean         15048.822937     137.253198\n",
       "std           7969.409482     160.311840\n",
       "min           2000.000000    -220.060000\n",
       "25%           8424.000000      28.012000\n",
       "50%          14685.000000      81.962000\n",
       "75%          21035.000000     190.030000\n",
       "max          35000.000000    1463.966000"
      ]
     },
     "execution_count": 52,
     "metadata": {},
     "output_type": "execute_result"
    }
   ],
   "source": [
    "income_analysis.describe()"
   ]
  },
  {
   "cell_type": "code",
   "execution_count": 53,
   "metadata": {},
   "outputs": [],
   "source": [
    "bins_income = [2000.0, 10000.0, 20000.0, 30000.0, 35000.0]\n",
    "names_income = [\"2000-10000\", \"10000-20000\", \"20000-30000\", \"30000-35000\"]"
   ]
  },
  {
   "cell_type": "code",
   "execution_count": 54,
   "metadata": {},
   "outputs": [
    {
     "name": "stderr",
     "output_type": "stream",
     "text": [
      "<ipython-input-54-e8e586ac9f81>:1: SettingWithCopyWarning: \n",
      "A value is trying to be set on a copy of a slice from a DataFrame.\n",
      "Try using .loc[row_indexer,col_indexer] = value instead\n",
      "\n",
      "See the caveats in the documentation: https://pandas.pydata.org/pandas-docs/stable/user_guide/indexing.html#returning-a-view-versus-a-copy\n",
      "  income_analysis[\"Income (USD/Month)\"] = pd.cut(income_analysis['Income (USD/Month)'], bins_income, labels=names_income)\n"
     ]
    }
   ],
   "source": [
    "income_analysis[\"Income (USD/Month)\"] = pd.cut(income_analysis['Income (USD/Month)'], bins_income, labels=names_income)"
   ]
  },
  {
   "cell_type": "code",
   "execution_count": 55,
   "metadata": {},
   "outputs": [
    {
     "data": {
      "text/html": [
       "<div>\n",
       "<style scoped>\n",
       "    .dataframe tbody tr th:only-of-type {\n",
       "        vertical-align: middle;\n",
       "    }\n",
       "\n",
       "    .dataframe tbody tr th {\n",
       "        vertical-align: top;\n",
       "    }\n",
       "\n",
       "    .dataframe thead th {\n",
       "        text-align: right;\n",
       "    }\n",
       "</style>\n",
       "<table border=\"1\" class=\"dataframe\">\n",
       "  <thead>\n",
       "    <tr style=\"text-align: right;\">\n",
       "      <th></th>\n",
       "      <th>Company</th>\n",
       "      <th>Income (USD/Month)</th>\n",
       "      <th>Profit</th>\n",
       "    </tr>\n",
       "  </thead>\n",
       "  <tbody>\n",
       "    <tr>\n",
       "      <th>0</th>\n",
       "      <td>Yellow Cab</td>\n",
       "      <td>10000-20000</td>\n",
       "      <td>796.6140</td>\n",
       "    </tr>\n",
       "    <tr>\n",
       "      <th>1</th>\n",
       "      <td>Yellow Cab</td>\n",
       "      <td>2000-10000</td>\n",
       "      <td>730.5484</td>\n",
       "    </tr>\n",
       "    <tr>\n",
       "      <th>2</th>\n",
       "      <td>Yellow Cab</td>\n",
       "      <td>10000-20000</td>\n",
       "      <td>693.8984</td>\n",
       "    </tr>\n",
       "    <tr>\n",
       "      <th>3</th>\n",
       "      <td>Pink Cab</td>\n",
       "      <td>10000-20000</td>\n",
       "      <td>15.7600</td>\n",
       "    </tr>\n",
       "    <tr>\n",
       "      <th>4</th>\n",
       "      <td>Pink Cab</td>\n",
       "      <td>10000-20000</td>\n",
       "      <td>149.3520</td>\n",
       "    </tr>\n",
       "  </tbody>\n",
       "</table>\n",
       "</div>"
      ],
      "text/plain": [
       "      Company Income (USD/Month)    Profit\n",
       "0  Yellow Cab        10000-20000  796.6140\n",
       "1  Yellow Cab         2000-10000  730.5484\n",
       "2  Yellow Cab        10000-20000  693.8984\n",
       "3    Pink Cab        10000-20000   15.7600\n",
       "4    Pink Cab        10000-20000  149.3520"
      ]
     },
     "execution_count": 55,
     "metadata": {},
     "output_type": "execute_result"
    }
   ],
   "source": [
    "income_analysis.head()"
   ]
  },
  {
   "cell_type": "code",
   "execution_count": 56,
   "metadata": {},
   "outputs": [],
   "source": [
    "agg_income = income_analysis.groupby(['Company', 'Income (USD/Month)'])['Profit'].sum().unstack()"
   ]
  },
  {
   "cell_type": "code",
   "execution_count": 57,
   "metadata": {},
   "outputs": [
    {
     "data": {
      "image/png": "[encoded data removed]",
      "text/plain": [
       "<Figure size 410.4x307.44 with 1 Axes>"
      ]
     },
     "metadata": {
      "needs_background": "light"
     },
     "output_type": "display_data"
    }
   ],
   "source": [
    "agg_income.plot(kind='bar', stacked=True)\n",
    "plt.xticks(rotation=0, ha='center')\n",
    "plt.ylabel('Profit')\n",
    "plt.title('Profit by Company and Income')\n",
    "plt.show()"
   ]
  },
  {
   "cell_type": "markdown",
   "metadata": {},
   "source": [
    "Middle and upper-middle class users contribute strongly to the profit of both companies."
   ]
  },
  {
   "cell_type": "markdown",
   "metadata": {},
   "source": [
    "### Profit and Age analysis"
   ]
  },
  {
   "cell_type": "code",
   "execution_count": 58,
   "metadata": {},
   "outputs": [],
   "source": [
    "#Age-profit analysis\n",
    "age_analysis = df[['Company', 'Age', 'Profit']]"
   ]
  },
  {
   "cell_type": "code",
   "execution_count": 59,
   "metadata": {},
   "outputs": [],
   "source": [
    "bins_age = [18, 25, 35, 45, 60, 100]\n",
    "names_age = [\"18-25\", \"26-35\", \"36-45\", \"46-60\", \">60\"]"
   ]
  },
  {
   "cell_type": "code",
   "execution_count": 60,
   "metadata": {},
   "outputs": [
    {
     "name": "stderr",
     "output_type": "stream",
     "text": [
      "<ipython-input-60-13024ca7e824>:1: SettingWithCopyWarning: \n",
      "A value is trying to be set on a copy of a slice from a DataFrame.\n",
      "Try using .loc[row_indexer,col_indexer] = value instead\n",
      "\n",
      "See the caveats in the documentation: https://pandas.pydata.org/pandas-docs/stable/user_guide/indexing.html#returning-a-view-versus-a-copy\n",
      "  age_analysis[\"Age\"] = pd.cut(age_analysis['Age'], bins_age, labels=names_age)\n"
     ]
    }
   ],
   "source": [
    "age_analysis[\"Age\"] = pd.cut(age_analysis['Age'], bins_age, labels=names_age)"
   ]
  },
  {
   "cell_type": "code",
   "execution_count": 61,
   "metadata": {},
   "outputs": [],
   "source": [
    "agg_age = age_analysis.groupby(['Company', 'Age'])['Profit'].sum().unstack()"
   ]
  },
  {
   "cell_type": "code",
   "execution_count": 62,
   "metadata": {},
   "outputs": [
    {
     "data": {
      "image/png": "[encoded data removed]",
      "text/plain": [
       "<Figure size 410.4x307.44 with 1 Axes>"
      ]
     },
     "metadata": {
      "needs_background": "light"
     },
     "output_type": "display_data"
    }
   ],
   "source": [
    "agg_age.plot(kind='bar', stacked=True)\n",
    "plt.xticks(rotation=0, ha='center')\n",
    "plt.ylabel('Profit')\n",
    "plt.title('Profit by Company and Age')\n",
    "plt.show()"
   ]
  },
  {
   "cell_type": "markdown",
   "metadata": {},
   "source": [
    "Young users and young adults contribute strongly to the profitability of both companies."
   ]
  },
  {
   "cell_type": "markdown",
   "metadata": {},
   "source": [
    "### Profit analysis"
   ]
  },
  {
   "cell_type": "code",
   "execution_count": 63,
   "metadata": {},
   "outputs": [],
   "source": [
    "df_ts = df.set_index('Date')"
   ]
  },
  {
   "cell_type": "code",
   "execution_count": 64,
   "metadata": {},
   "outputs": [],
   "source": [
    "profit = df_ts[['Profit', 'Company']]"
   ]
  },
  {
   "cell_type": "code",
   "execution_count": 65,
   "metadata": {},
   "outputs": [],
   "source": [
    "yellow_cab_profit = profit[profit['Company'] == 'Yellow Cab']\n",
    "pink_cab_profit = profit[profit['Company'] == 'Pink Cab']"
   ]
  },
  {
   "cell_type": "code",
   "execution_count": 66,
   "metadata": {},
   "outputs": [],
   "source": [
    "yellow_cab_profit_monthly = yellow_cab_profit.resample('M').mean()\n",
    "pink_cab_profit_monthly = pink_cab_profit.resample('M').mean()"
   ]
  },
  {
   "cell_type": "code",
   "execution_count": 67,
   "metadata": {},
   "outputs": [
    {
     "data": {
      "image/png": "[encoded data removed]",
      "text/plain": [
       "<Figure size 720x360 with 1 Axes>"
      ]
     },
     "metadata": {
      "needs_background": "light"
     },
     "output_type": "display_data"
    }
   ],
   "source": [
    "plt.figure(figsize = (10,5))\n",
    "sns.lineplot(x=yellow_cab_profit_monthly.index, y='Profit', data=yellow_cab_profit_monthly, marker='D')\n",
    "sns.lineplot(x=pink_cab_profit_monthly.index, y='Profit', data=pink_cab_profit_monthly, marker='H')\n",
    "plt.legend(['Yellow Cab', 'Pink Cab'])\n",
    "plt.title('Mean profit per month by each company')\n",
    "plt.xlabel('Timestamp')\n",
    "plt.show()"
   ]
  },
  {
   "cell_type": "markdown",
   "metadata": {},
   "source": [
    "A clear seasonality is observed. The presence of of variations that occur monthly can be observed for both companies. In the case of the Yellow Cab company, a higher gain is observed around the month of May for each year. While their lowest profit is around the month of September. On the other hand, in the case of the Pink Cab company, a higher profit is observed around the month of January for each year. While their lowest profit is around the month of May."
   ]
  },
  {
   "cell_type": "code",
   "execution_count": 68,
   "metadata": {},
   "outputs": [],
   "source": [
    "yellow_cab_profit_yearly = yellow_cab_profit.resample('Y').mean()\n",
    "pink_cab_profit_yearly = pink_cab_profit.resample('Y').mean()"
   ]
  },
  {
   "cell_type": "code",
   "execution_count": 69,
   "metadata": {},
   "outputs": [
    {
     "data": {
      "image/png": "[encoded data removed]",
      "text/plain": [
       "<Figure size 576x360 with 1 Axes>"
      ]
     },
     "metadata": {
      "needs_background": "light"
     },
     "output_type": "display_data"
    }
   ],
   "source": [
    "plt.figure(figsize = (8,5))\n",
    "sns.lineplot(x=yellow_cab_profit_yearly.index.strftime('%Y'), y='Profit', data=yellow_cab_profit_yearly, marker='D')\n",
    "sns.lineplot(x=pink_cab_profit_yearly.index.strftime('%Y'), y='Profit', data=pink_cab_profit_yearly, marker='H')\n",
    "plt.legend(['Yellow Cab', 'Pink Cab'])\n",
    "plt.title('Mean profit per year by each company')\n",
    "plt.xlabel('Timestamp')\n",
    "plt.ylim([20, 220])\n",
    "plt.show()"
   ]
  },
  {
   "cell_type": "markdown",
   "metadata": {},
   "source": [
    "An analysis of the annual profit for each company shows a downward trend. This trend is much more marked for the Yellow Cab company."
   ]
  },
  {
   "cell_type": "code",
   "execution_count": 133,
   "metadata": {},
   "outputs": [
    {
     "data": {
      "text/html": [
       "<div>\n",
       "<style scoped>\n",
       "    .dataframe tbody tr th:only-of-type {\n",
       "        vertical-align: middle;\n",
       "    }\n",
       "\n",
       "    .dataframe tbody tr th {\n",
       "        vertical-align: top;\n",
       "    }\n",
       "\n",
       "    .dataframe thead th {\n",
       "        text-align: right;\n",
       "    }\n",
       "</style>\n",
       "<table border=\"1\" class=\"dataframe\">\n",
       "  <thead>\n",
       "    <tr style=\"text-align: right;\">\n",
       "      <th></th>\n",
       "      <th>City</th>\n",
       "      <th>Population</th>\n",
       "      <th>Users</th>\n",
       "      <th>Date</th>\n",
       "      <th>Holiday</th>\n",
       "      <th>Company</th>\n",
       "      <th>KM Travelled</th>\n",
       "      <th>Price Charged</th>\n",
       "      <th>Cost of Trip</th>\n",
       "      <th>Payment_Mode</th>\n",
       "      <th>Gender</th>\n",
       "      <th>Age</th>\n",
       "      <th>Income (USD/Month)</th>\n",
       "      <th>Profit</th>\n",
       "      <th>Margin</th>\n",
       "      <th>Markup</th>\n",
       "    </tr>\n",
       "  </thead>\n",
       "  <tbody>\n",
       "    <tr>\n",
       "      <th>0</th>\n",
       "      <td>NEW YORK NY</td>\n",
       "      <td>8405837</td>\n",
       "      <td>302149</td>\n",
       "      <td>2016-01-02</td>\n",
       "      <td>NaN</td>\n",
       "      <td>Yellow Cab</td>\n",
       "      <td>46.80</td>\n",
       "      <td>1391.91</td>\n",
       "      <td>595.2960</td>\n",
       "      <td>Card</td>\n",
       "      <td>Male</td>\n",
       "      <td>40</td>\n",
       "      <td>11462</td>\n",
       "      <td>796.6140</td>\n",
       "      <td>57.231718</td>\n",
       "      <td>133.818134</td>\n",
       "    </tr>\n",
       "    <tr>\n",
       "      <th>1</th>\n",
       "      <td>NEW YORK NY</td>\n",
       "      <td>8405837</td>\n",
       "      <td>302149</td>\n",
       "      <td>2016-01-02</td>\n",
       "      <td>NaN</td>\n",
       "      <td>Yellow Cab</td>\n",
       "      <td>37.12</td>\n",
       "      <td>1238.35</td>\n",
       "      <td>507.8016</td>\n",
       "      <td>Card</td>\n",
       "      <td>Male</td>\n",
       "      <td>34</td>\n",
       "      <td>2589</td>\n",
       "      <td>730.5484</td>\n",
       "      <td>58.993693</td>\n",
       "      <td>143.864927</td>\n",
       "    </tr>\n",
       "    <tr>\n",
       "      <th>2</th>\n",
       "      <td>NEW YORK NY</td>\n",
       "      <td>8405837</td>\n",
       "      <td>302149</td>\n",
       "      <td>2016-01-02</td>\n",
       "      <td>NaN</td>\n",
       "      <td>Yellow Cab</td>\n",
       "      <td>38.88</td>\n",
       "      <td>1211.78</td>\n",
       "      <td>517.8816</td>\n",
       "      <td>Cash</td>\n",
       "      <td>Male</td>\n",
       "      <td>45</td>\n",
       "      <td>12186</td>\n",
       "      <td>693.8984</td>\n",
       "      <td>57.262737</td>\n",
       "      <td>133.987846</td>\n",
       "    </tr>\n",
       "    <tr>\n",
       "      <th>3</th>\n",
       "      <td>NEW YORK NY</td>\n",
       "      <td>8405837</td>\n",
       "      <td>302149</td>\n",
       "      <td>2016-01-02</td>\n",
       "      <td>NaN</td>\n",
       "      <td>Pink Cab</td>\n",
       "      <td>2.10</td>\n",
       "      <td>37.18</td>\n",
       "      <td>21.4200</td>\n",
       "      <td>Cash</td>\n",
       "      <td>Male</td>\n",
       "      <td>28</td>\n",
       "      <td>15285</td>\n",
       "      <td>15.7600</td>\n",
       "      <td>42.388381</td>\n",
       "      <td>73.576097</td>\n",
       "    </tr>\n",
       "    <tr>\n",
       "      <th>4</th>\n",
       "      <td>NEW YORK NY</td>\n",
       "      <td>8405837</td>\n",
       "      <td>302149</td>\n",
       "      <td>2016-01-02</td>\n",
       "      <td>NaN</td>\n",
       "      <td>Pink Cab</td>\n",
       "      <td>32.64</td>\n",
       "      <td>498.60</td>\n",
       "      <td>349.2480</td>\n",
       "      <td>Card</td>\n",
       "      <td>Male</td>\n",
       "      <td>52</td>\n",
       "      <td>15974</td>\n",
       "      <td>149.3520</td>\n",
       "      <td>29.954272</td>\n",
       "      <td>42.763881</td>\n",
       "    </tr>\n",
       "  </tbody>\n",
       "</table>\n",
       "</div>"
      ],
      "text/plain": [
       "          City  Population   Users       Date Holiday     Company  \\\n",
       "0  NEW YORK NY     8405837  302149 2016-01-02     NaN  Yellow Cab   \n",
       "1  NEW YORK NY     8405837  302149 2016-01-02     NaN  Yellow Cab   \n",
       "2  NEW YORK NY     8405837  302149 2016-01-02     NaN  Yellow Cab   \n",
       "3  NEW YORK NY     8405837  302149 2016-01-02     NaN    Pink Cab   \n",
       "4  NEW YORK NY     8405837  302149 2016-01-02     NaN    Pink Cab   \n",
       "\n",
       "   KM Travelled  Price Charged  Cost of Trip Payment_Mode Gender  Age  \\\n",
       "0         46.80        1391.91      595.2960         Card   Male   40   \n",
       "1         37.12        1238.35      507.8016         Card   Male   34   \n",
       "2         38.88        1211.78      517.8816         Cash   Male   45   \n",
       "3          2.10          37.18       21.4200         Cash   Male   28   \n",
       "4         32.64         498.60      349.2480         Card   Male   52   \n",
       "\n",
       "   Income (USD/Month)    Profit     Margin      Markup  \n",
       "0               11462  796.6140  57.231718  133.818134  \n",
       "1                2589  730.5484  58.993693  143.864927  \n",
       "2               12186  693.8984  57.262737  133.987846  \n",
       "3               15285   15.7600  42.388381   73.576097  \n",
       "4               15974  149.3520  29.954272   42.763881  "
      ]
     },
     "execution_count": 133,
     "metadata": {},
     "output_type": "execute_result"
    }
   ],
   "source": [
    "df.head()"
   ]
  },
  {
   "cell_type": "code",
   "execution_count": 157,
   "metadata": {},
   "outputs": [],
   "source": [
    "#Profit and Cost per Ride\n",
    "profit2 = df[['Date','Company', 'Cost of Trip', 'Profit']]"
   ]
  },
  {
   "cell_type": "code",
   "execution_count": null,
   "metadata": {},
   "outputs": [],
   "source": [
    "profit2_month = profit2.resample('M', on='Date')"
   ]
  },
  {
   "cell_type": "markdown",
   "metadata": {},
   "source": [
    "### Gender contribution in profit"
   ]
  },
  {
   "cell_type": "code",
   "execution_count": 70,
   "metadata": {},
   "outputs": [],
   "source": [
    "#Gender contribution in profit\n",
    "profit_gender = df_ts[['Profit', 'Company', 'Gender']]\n",
    "profit_gender_grouped = profit_gender.groupby([pd.Grouper(freq=\"A\"), 'Company', 'Gender'])['Profit'].agg(['mean'])"
   ]
  },
  {
   "cell_type": "code",
   "execution_count": 71,
   "metadata": {},
   "outputs": [],
   "source": [
    "profit_gender_grouped.reset_index(inplace=True)"
   ]
  },
  {
   "cell_type": "code",
   "execution_count": 72,
   "metadata": {},
   "outputs": [],
   "source": [
    "profit_gender_grouped.rename(columns={'mean':'Mean Profit'}, inplace=True)\n",
    "profit_gender_grouped.Date = profit_gender_grouped.Date.apply(lambda x : x.year)"
   ]
  },
  {
   "cell_type": "code",
   "execution_count": 73,
   "metadata": {},
   "outputs": [
    {
     "data": {
      "text/plain": [
       "<seaborn.axisgrid.FacetGrid at 0x7f4698ebd0d0>"
      ]
     },
     "execution_count": 73,
     "metadata": {},
     "output_type": "execute_result"
    },
    {
     "data": {
      "image/png": "[encoded data removed]",
      "text/plain": [
       "<Figure size 809x360 with 2 Axes>"
      ]
     },
     "metadata": {
      "needs_background": "light"
     },
     "output_type": "display_data"
    }
   ],
   "source": [
    "sns.catplot(x='Date', y='Mean Profit', data=profit_gender_grouped, hue='Company', col='Gender', kind='bar')"
   ]
  },
  {
   "cell_type": "markdown",
   "metadata": {},
   "source": [
    "There is almost equal distribution of gender in the profit."
   ]
  },
  {
   "cell_type": "code",
   "execution_count": 74,
   "metadata": {},
   "outputs": [
    {
     "data": {
      "text/html": [
       "<div>\n",
       "<style scoped>\n",
       "    .dataframe tbody tr th:only-of-type {\n",
       "        vertical-align: middle;\n",
       "    }\n",
       "\n",
       "    .dataframe tbody tr th {\n",
       "        vertical-align: top;\n",
       "    }\n",
       "\n",
       "    .dataframe thead th {\n",
       "        text-align: right;\n",
       "    }\n",
       "</style>\n",
       "<table border=\"1\" class=\"dataframe\">\n",
       "  <thead>\n",
       "    <tr style=\"text-align: right;\">\n",
       "      <th></th>\n",
       "      <th>City</th>\n",
       "      <th>Population</th>\n",
       "      <th>Users</th>\n",
       "      <th>Date</th>\n",
       "      <th>Holiday</th>\n",
       "      <th>Company</th>\n",
       "      <th>KM Travelled</th>\n",
       "      <th>Price Charged</th>\n",
       "      <th>Cost of Trip</th>\n",
       "      <th>Payment_Mode</th>\n",
       "      <th>Gender</th>\n",
       "      <th>Age</th>\n",
       "      <th>Income (USD/Month)</th>\n",
       "      <th>Profit</th>\n",
       "      <th>Margin</th>\n",
       "      <th>Markup</th>\n",
       "    </tr>\n",
       "  </thead>\n",
       "  <tbody>\n",
       "    <tr>\n",
       "      <th>0</th>\n",
       "      <td>NEW YORK NY</td>\n",
       "      <td>8405837</td>\n",
       "      <td>302149</td>\n",
       "      <td>2016-01-02</td>\n",
       "      <td>NaN</td>\n",
       "      <td>Yellow Cab</td>\n",
       "      <td>46.80</td>\n",
       "      <td>1391.91</td>\n",
       "      <td>595.2960</td>\n",
       "      <td>Card</td>\n",
       "      <td>Male</td>\n",
       "      <td>40</td>\n",
       "      <td>11462</td>\n",
       "      <td>796.6140</td>\n",
       "      <td>57.231718</td>\n",
       "      <td>133.818134</td>\n",
       "    </tr>\n",
       "    <tr>\n",
       "      <th>1</th>\n",
       "      <td>NEW YORK NY</td>\n",
       "      <td>8405837</td>\n",
       "      <td>302149</td>\n",
       "      <td>2016-01-02</td>\n",
       "      <td>NaN</td>\n",
       "      <td>Yellow Cab</td>\n",
       "      <td>37.12</td>\n",
       "      <td>1238.35</td>\n",
       "      <td>507.8016</td>\n",
       "      <td>Card</td>\n",
       "      <td>Male</td>\n",
       "      <td>34</td>\n",
       "      <td>2589</td>\n",
       "      <td>730.5484</td>\n",
       "      <td>58.993693</td>\n",
       "      <td>143.864927</td>\n",
       "    </tr>\n",
       "    <tr>\n",
       "      <th>2</th>\n",
       "      <td>NEW YORK NY</td>\n",
       "      <td>8405837</td>\n",
       "      <td>302149</td>\n",
       "      <td>2016-01-02</td>\n",
       "      <td>NaN</td>\n",
       "      <td>Yellow Cab</td>\n",
       "      <td>38.88</td>\n",
       "      <td>1211.78</td>\n",
       "      <td>517.8816</td>\n",
       "      <td>Cash</td>\n",
       "      <td>Male</td>\n",
       "      <td>45</td>\n",
       "      <td>12186</td>\n",
       "      <td>693.8984</td>\n",
       "      <td>57.262737</td>\n",
       "      <td>133.987846</td>\n",
       "    </tr>\n",
       "    <tr>\n",
       "      <th>3</th>\n",
       "      <td>NEW YORK NY</td>\n",
       "      <td>8405837</td>\n",
       "      <td>302149</td>\n",
       "      <td>2016-01-02</td>\n",
       "      <td>NaN</td>\n",
       "      <td>Pink Cab</td>\n",
       "      <td>2.10</td>\n",
       "      <td>37.18</td>\n",
       "      <td>21.4200</td>\n",
       "      <td>Cash</td>\n",
       "      <td>Male</td>\n",
       "      <td>28</td>\n",
       "      <td>15285</td>\n",
       "      <td>15.7600</td>\n",
       "      <td>42.388381</td>\n",
       "      <td>73.576097</td>\n",
       "    </tr>\n",
       "    <tr>\n",
       "      <th>4</th>\n",
       "      <td>NEW YORK NY</td>\n",
       "      <td>8405837</td>\n",
       "      <td>302149</td>\n",
       "      <td>2016-01-02</td>\n",
       "      <td>NaN</td>\n",
       "      <td>Pink Cab</td>\n",
       "      <td>32.64</td>\n",
       "      <td>498.60</td>\n",
       "      <td>349.2480</td>\n",
       "      <td>Card</td>\n",
       "      <td>Male</td>\n",
       "      <td>52</td>\n",
       "      <td>15974</td>\n",
       "      <td>149.3520</td>\n",
       "      <td>29.954272</td>\n",
       "      <td>42.763881</td>\n",
       "    </tr>\n",
       "  </tbody>\n",
       "</table>\n",
       "</div>"
      ],
      "text/plain": [
       "          City  Population   Users       Date Holiday     Company  \\\n",
       "0  NEW YORK NY     8405837  302149 2016-01-02     NaN  Yellow Cab   \n",
       "1  NEW YORK NY     8405837  302149 2016-01-02     NaN  Yellow Cab   \n",
       "2  NEW YORK NY     8405837  302149 2016-01-02     NaN  Yellow Cab   \n",
       "3  NEW YORK NY     8405837  302149 2016-01-02     NaN    Pink Cab   \n",
       "4  NEW YORK NY     8405837  302149 2016-01-02     NaN    Pink Cab   \n",
       "\n",
       "   KM Travelled  Price Charged  Cost of Trip Payment_Mode Gender  Age  \\\n",
       "0         46.80        1391.91      595.2960         Card   Male   40   \n",
       "1         37.12        1238.35      507.8016         Card   Male   34   \n",
       "2         38.88        1211.78      517.8816         Cash   Male   45   \n",
       "3          2.10          37.18       21.4200         Cash   Male   28   \n",
       "4         32.64         498.60      349.2480         Card   Male   52   \n",
       "\n",
       "   Income (USD/Month)    Profit     Margin      Markup  \n",
       "0               11462  796.6140  57.231718  133.818134  \n",
       "1                2589  730.5484  58.993693  143.864927  \n",
       "2               12186  693.8984  57.262737  133.987846  \n",
       "3               15285   15.7600  42.388381   73.576097  \n",
       "4               15974  149.3520  29.954272   42.763881  "
      ]
     },
     "execution_count": 74,
     "metadata": {},
     "output_type": "execute_result"
    }
   ],
   "source": [
    "df.head()"
   ]
  },
  {
   "cell_type": "code",
   "execution_count": 75,
   "metadata": {},
   "outputs": [
    {
     "data": {
      "text/html": [
       "<style  type=\"text/css\" >\n",
       "#T_a1cc08c4_8408_11eb_b5ed_d36db62fee55row0_col0,#T_a1cc08c4_8408_11eb_b5ed_d36db62fee55row1_col1,#T_a1cc08c4_8408_11eb_b5ed_d36db62fee55row2_col2,#T_a1cc08c4_8408_11eb_b5ed_d36db62fee55row3_col3,#T_a1cc08c4_8408_11eb_b5ed_d36db62fee55row4_col4,#T_a1cc08c4_8408_11eb_b5ed_d36db62fee55row5_col5,#T_a1cc08c4_8408_11eb_b5ed_d36db62fee55row6_col6,#T_a1cc08c4_8408_11eb_b5ed_d36db62fee55row7_col7{\n",
       "            background-color:  #b40426;\n",
       "            color:  #f1f1f1;\n",
       "        }#T_a1cc08c4_8408_11eb_b5ed_d36db62fee55row0_col1,#T_a1cc08c4_8408_11eb_b5ed_d36db62fee55row1_col0{\n",
       "            background-color:  #d1493f;\n",
       "            color:  #f1f1f1;\n",
       "        }#T_a1cc08c4_8408_11eb_b5ed_d36db62fee55row0_col2,#T_a1cc08c4_8408_11eb_b5ed_d36db62fee55row0_col4,#T_a1cc08c4_8408_11eb_b5ed_d36db62fee55row1_col2,#T_a1cc08c4_8408_11eb_b5ed_d36db62fee55row1_col3,#T_a1cc08c4_8408_11eb_b5ed_d36db62fee55row1_col5,#T_a1cc08c4_8408_11eb_b5ed_d36db62fee55row2_col0,#T_a1cc08c4_8408_11eb_b5ed_d36db62fee55row2_col1,#T_a1cc08c4_8408_11eb_b5ed_d36db62fee55row2_col6,#T_a1cc08c4_8408_11eb_b5ed_d36db62fee55row2_col7,#T_a1cc08c4_8408_11eb_b5ed_d36db62fee55row6_col2,#T_a1cc08c4_8408_11eb_b5ed_d36db62fee55row6_col4,#T_a1cc08c4_8408_11eb_b5ed_d36db62fee55row7_col2,#T_a1cc08c4_8408_11eb_b5ed_d36db62fee55row7_col4{\n",
       "            background-color:  #3b4cc0;\n",
       "            color:  #f1f1f1;\n",
       "        }#T_a1cc08c4_8408_11eb_b5ed_d36db62fee55row0_col3{\n",
       "            background-color:  #4e68d8;\n",
       "            color:  #000000;\n",
       "        }#T_a1cc08c4_8408_11eb_b5ed_d36db62fee55row0_col5{\n",
       "            background-color:  #6c8ff1;\n",
       "            color:  #000000;\n",
       "        }#T_a1cc08c4_8408_11eb_b5ed_d36db62fee55row0_col6,#T_a1cc08c4_8408_11eb_b5ed_d36db62fee55row6_col0{\n",
       "            background-color:  #f6bfa6;\n",
       "            color:  #000000;\n",
       "        }#T_a1cc08c4_8408_11eb_b5ed_d36db62fee55row0_col7,#T_a1cc08c4_8408_11eb_b5ed_d36db62fee55row7_col0{\n",
       "            background-color:  #f7af91;\n",
       "            color:  #000000;\n",
       "        }#T_a1cc08c4_8408_11eb_b5ed_d36db62fee55row1_col4,#T_a1cc08c4_8408_11eb_b5ed_d36db62fee55row2_col5{\n",
       "            background-color:  #3d50c3;\n",
       "            color:  #f1f1f1;\n",
       "        }#T_a1cc08c4_8408_11eb_b5ed_d36db62fee55row1_col6,#T_a1cc08c4_8408_11eb_b5ed_d36db62fee55row6_col1{\n",
       "            background-color:  #e5d8d1;\n",
       "            color:  #000000;\n",
       "        }#T_a1cc08c4_8408_11eb_b5ed_d36db62fee55row1_col7,#T_a1cc08c4_8408_11eb_b5ed_d36db62fee55row7_col1{\n",
       "            background-color:  #efcfbf;\n",
       "            color:  #000000;\n",
       "        }#T_a1cc08c4_8408_11eb_b5ed_d36db62fee55row2_col3{\n",
       "            background-color:  #f29072;\n",
       "            color:  #000000;\n",
       "        }#T_a1cc08c4_8408_11eb_b5ed_d36db62fee55row2_col4,#T_a1cc08c4_8408_11eb_b5ed_d36db62fee55row4_col2{\n",
       "            background-color:  #ba162b;\n",
       "            color:  #f1f1f1;\n",
       "        }#T_a1cc08c4_8408_11eb_b5ed_d36db62fee55row3_col0{\n",
       "            background-color:  #a9c6fd;\n",
       "            color:  #000000;\n",
       "        }#T_a1cc08c4_8408_11eb_b5ed_d36db62fee55row3_col1{\n",
       "            background-color:  #98b9ff;\n",
       "            color:  #000000;\n",
       "        }#T_a1cc08c4_8408_11eb_b5ed_d36db62fee55row3_col2{\n",
       "            background-color:  #e67259;\n",
       "            color:  #000000;\n",
       "        }#T_a1cc08c4_8408_11eb_b5ed_d36db62fee55row3_col4{\n",
       "            background-color:  #e26952;\n",
       "            color:  #000000;\n",
       "        }#T_a1cc08c4_8408_11eb_b5ed_d36db62fee55row3_col5{\n",
       "            background-color:  #f49a7b;\n",
       "            color:  #000000;\n",
       "        }#T_a1cc08c4_8408_11eb_b5ed_d36db62fee55row3_col6{\n",
       "            background-color:  #ccd9ed;\n",
       "            color:  #000000;\n",
       "        }#T_a1cc08c4_8408_11eb_b5ed_d36db62fee55row3_col7,#T_a1cc08c4_8408_11eb_b5ed_d36db62fee55row5_col2{\n",
       "            background-color:  #d3dbe7;\n",
       "            color:  #000000;\n",
       "        }#T_a1cc08c4_8408_11eb_b5ed_d36db62fee55row4_col0,#T_a1cc08c4_8408_11eb_b5ed_d36db62fee55row4_col6,#T_a1cc08c4_8408_11eb_b5ed_d36db62fee55row4_col7{\n",
       "            background-color:  #3f53c6;\n",
       "            color:  #f1f1f1;\n",
       "        }#T_a1cc08c4_8408_11eb_b5ed_d36db62fee55row4_col1{\n",
       "            background-color:  #4257c9;\n",
       "            color:  #f1f1f1;\n",
       "        }#T_a1cc08c4_8408_11eb_b5ed_d36db62fee55row4_col3{\n",
       "            background-color:  #ec8165;\n",
       "            color:  #000000;\n",
       "        }#T_a1cc08c4_8408_11eb_b5ed_d36db62fee55row4_col5{\n",
       "            background-color:  #4a63d3;\n",
       "            color:  #f1f1f1;\n",
       "        }#T_a1cc08c4_8408_11eb_b5ed_d36db62fee55row5_col0{\n",
       "            background-color:  #e8d6cc;\n",
       "            color:  #000000;\n",
       "        }#T_a1cc08c4_8408_11eb_b5ed_d36db62fee55row5_col1{\n",
       "            background-color:  #d2dbe8;\n",
       "            color:  #000000;\n",
       "        }#T_a1cc08c4_8408_11eb_b5ed_d36db62fee55row5_col3{\n",
       "            background-color:  #ec7f63;\n",
       "            color:  #000000;\n",
       "        }#T_a1cc08c4_8408_11eb_b5ed_d36db62fee55row5_col4{\n",
       "            background-color:  #d7dce3;\n",
       "            color:  #000000;\n",
       "        }#T_a1cc08c4_8408_11eb_b5ed_d36db62fee55row5_col6{\n",
       "            background-color:  #f59f80;\n",
       "            color:  #000000;\n",
       "        }#T_a1cc08c4_8408_11eb_b5ed_d36db62fee55row5_col7{\n",
       "            background-color:  #f18f71;\n",
       "            color:  #000000;\n",
       "        }#T_a1cc08c4_8408_11eb_b5ed_d36db62fee55row6_col3{\n",
       "            background-color:  #82a6fb;\n",
       "            color:  #000000;\n",
       "        }#T_a1cc08c4_8408_11eb_b5ed_d36db62fee55row6_col5{\n",
       "            background-color:  #e0dbd8;\n",
       "            color:  #000000;\n",
       "        }#T_a1cc08c4_8408_11eb_b5ed_d36db62fee55row6_col7,#T_a1cc08c4_8408_11eb_b5ed_d36db62fee55row7_col6{\n",
       "            background-color:  #c53334;\n",
       "            color:  #f1f1f1;\n",
       "        }#T_a1cc08c4_8408_11eb_b5ed_d36db62fee55row7_col3{\n",
       "            background-color:  #8db0fe;\n",
       "            color:  #000000;\n",
       "        }#T_a1cc08c4_8408_11eb_b5ed_d36db62fee55row7_col5{\n",
       "            background-color:  #efcebd;\n",
       "            color:  #000000;\n",
       "        }</style><table id=\"T_a1cc08c4_8408_11eb_b5ed_d36db62fee55\" ><thead>    <tr>        <th class=\"blank level0\" ></th>        <th class=\"col_heading level0 col0\" >Population</th>        <th class=\"col_heading level0 col1\" >Users</th>        <th class=\"col_heading level0 col2\" >KM Travelled</th>        <th class=\"col_heading level0 col3\" >Price Charged</th>        <th class=\"col_heading level0 col4\" >Cost of Trip</th>        <th class=\"col_heading level0 col5\" >Profit</th>        <th class=\"col_heading level0 col6\" >Margin</th>        <th class=\"col_heading level0 col7\" >Markup</th>    </tr></thead><tbody>\n",
       "                <tr>\n",
       "                        <th id=\"T_a1cc08c4_8408_11eb_b5ed_d36db62fee55level0_row0\" class=\"row_heading level0 row0\" >Population</th>\n",
       "                        <td id=\"T_a1cc08c4_8408_11eb_b5ed_d36db62fee55row0_col0\" class=\"data row0 col0\" >1.00</td>\n",
       "                        <td id=\"T_a1cc08c4_8408_11eb_b5ed_d36db62fee55row0_col1\" class=\"data row0 col1\" >0.92</td>\n",
       "                        <td id=\"T_a1cc08c4_8408_11eb_b5ed_d36db62fee55row0_col2\" class=\"data row0 col2\" >-0.00</td>\n",
       "                        <td id=\"T_a1cc08c4_8408_11eb_b5ed_d36db62fee55row0_col3\" class=\"data row0 col3\" >0.33</td>\n",
       "                        <td id=\"T_a1cc08c4_8408_11eb_b5ed_d36db62fee55row0_col4\" class=\"data row0 col4\" >0.02</td>\n",
       "                        <td id=\"T_a1cc08c4_8408_11eb_b5ed_d36db62fee55row0_col5\" class=\"data row0 col5\" >0.54</td>\n",
       "                        <td id=\"T_a1cc08c4_8408_11eb_b5ed_d36db62fee55row0_col6\" class=\"data row0 col6\" >0.64</td>\n",
       "                        <td id=\"T_a1cc08c4_8408_11eb_b5ed_d36db62fee55row0_col7\" class=\"data row0 col7\" >0.69</td>\n",
       "            </tr>\n",
       "            <tr>\n",
       "                        <th id=\"T_a1cc08c4_8408_11eb_b5ed_d36db62fee55level0_row1\" class=\"row_heading level0 row1\" >Users</th>\n",
       "                        <td id=\"T_a1cc08c4_8408_11eb_b5ed_d36db62fee55row1_col0\" class=\"data row1 col0\" >0.92</td>\n",
       "                        <td id=\"T_a1cc08c4_8408_11eb_b5ed_d36db62fee55row1_col1\" class=\"data row1 col1\" >1.00</td>\n",
       "                        <td id=\"T_a1cc08c4_8408_11eb_b5ed_d36db62fee55row1_col2\" class=\"data row1 col2\" >-0.00</td>\n",
       "                        <td id=\"T_a1cc08c4_8408_11eb_b5ed_d36db62fee55row1_col3\" class=\"data row1 col3\" >0.28</td>\n",
       "                        <td id=\"T_a1cc08c4_8408_11eb_b5ed_d36db62fee55row1_col4\" class=\"data row1 col4\" >0.02</td>\n",
       "                        <td id=\"T_a1cc08c4_8408_11eb_b5ed_d36db62fee55row1_col5\" class=\"data row1 col5\" >0.46</td>\n",
       "                        <td id=\"T_a1cc08c4_8408_11eb_b5ed_d36db62fee55row1_col6\" class=\"data row1 col6\" >0.53</td>\n",
       "                        <td id=\"T_a1cc08c4_8408_11eb_b5ed_d36db62fee55row1_col7\" class=\"data row1 col7\" >0.58</td>\n",
       "            </tr>\n",
       "            <tr>\n",
       "                        <th id=\"T_a1cc08c4_8408_11eb_b5ed_d36db62fee55level0_row2\" class=\"row_heading level0 row2\" >KM Travelled</th>\n",
       "                        <td id=\"T_a1cc08c4_8408_11eb_b5ed_d36db62fee55row2_col0\" class=\"data row2 col0\" >-0.00</td>\n",
       "                        <td id=\"T_a1cc08c4_8408_11eb_b5ed_d36db62fee55row2_col1\" class=\"data row2 col1\" >-0.00</td>\n",
       "                        <td id=\"T_a1cc08c4_8408_11eb_b5ed_d36db62fee55row2_col2\" class=\"data row2 col2\" >1.00</td>\n",
       "                        <td id=\"T_a1cc08c4_8408_11eb_b5ed_d36db62fee55row2_col3\" class=\"data row2 col3\" >0.84</td>\n",
       "                        <td id=\"T_a1cc08c4_8408_11eb_b5ed_d36db62fee55row2_col4\" class=\"data row2 col4\" >0.98</td>\n",
       "                        <td id=\"T_a1cc08c4_8408_11eb_b5ed_d36db62fee55row2_col5\" class=\"data row2 col5\" >0.46</td>\n",
       "                        <td id=\"T_a1cc08c4_8408_11eb_b5ed_d36db62fee55row2_col6\" class=\"data row2 col6\" >0.00</td>\n",
       "                        <td id=\"T_a1cc08c4_8408_11eb_b5ed_d36db62fee55row2_col7\" class=\"data row2 col7\" >-0.00</td>\n",
       "            </tr>\n",
       "            <tr>\n",
       "                        <th id=\"T_a1cc08c4_8408_11eb_b5ed_d36db62fee55level0_row3\" class=\"row_heading level0 row3\" >Price Charged</th>\n",
       "                        <td id=\"T_a1cc08c4_8408_11eb_b5ed_d36db62fee55row3_col0\" class=\"data row3 col0\" >0.33</td>\n",
       "                        <td id=\"T_a1cc08c4_8408_11eb_b5ed_d36db62fee55row3_col1\" class=\"data row3 col1\" >0.28</td>\n",
       "                        <td id=\"T_a1cc08c4_8408_11eb_b5ed_d36db62fee55row3_col2\" class=\"data row3 col2\" >0.84</td>\n",
       "                        <td id=\"T_a1cc08c4_8408_11eb_b5ed_d36db62fee55row3_col3\" class=\"data row3 col3\" >1.00</td>\n",
       "                        <td id=\"T_a1cc08c4_8408_11eb_b5ed_d36db62fee55row3_col4\" class=\"data row3 col4\" >0.86</td>\n",
       "                        <td id=\"T_a1cc08c4_8408_11eb_b5ed_d36db62fee55row3_col5\" class=\"data row3 col5\" >0.86</td>\n",
       "                        <td id=\"T_a1cc08c4_8408_11eb_b5ed_d36db62fee55row3_col6\" class=\"data row3 col6\" >0.44</td>\n",
       "                        <td id=\"T_a1cc08c4_8408_11eb_b5ed_d36db62fee55row3_col7\" class=\"data row3 col7\" >0.46</td>\n",
       "            </tr>\n",
       "            <tr>\n",
       "                        <th id=\"T_a1cc08c4_8408_11eb_b5ed_d36db62fee55level0_row4\" class=\"row_heading level0 row4\" >Cost of Trip</th>\n",
       "                        <td id=\"T_a1cc08c4_8408_11eb_b5ed_d36db62fee55row4_col0\" class=\"data row4 col0\" >0.02</td>\n",
       "                        <td id=\"T_a1cc08c4_8408_11eb_b5ed_d36db62fee55row4_col1\" class=\"data row4 col1\" >0.02</td>\n",
       "                        <td id=\"T_a1cc08c4_8408_11eb_b5ed_d36db62fee55row4_col2\" class=\"data row4 col2\" >0.98</td>\n",
       "                        <td id=\"T_a1cc08c4_8408_11eb_b5ed_d36db62fee55row4_col3\" class=\"data row4 col3\" >0.86</td>\n",
       "                        <td id=\"T_a1cc08c4_8408_11eb_b5ed_d36db62fee55row4_col4\" class=\"data row4 col4\" >1.00</td>\n",
       "                        <td id=\"T_a1cc08c4_8408_11eb_b5ed_d36db62fee55row4_col5\" class=\"data row4 col5\" >0.49</td>\n",
       "                        <td id=\"T_a1cc08c4_8408_11eb_b5ed_d36db62fee55row4_col6\" class=\"data row4 col6\" >0.02</td>\n",
       "                        <td id=\"T_a1cc08c4_8408_11eb_b5ed_d36db62fee55row4_col7\" class=\"data row4 col7\" >0.02</td>\n",
       "            </tr>\n",
       "            <tr>\n",
       "                        <th id=\"T_a1cc08c4_8408_11eb_b5ed_d36db62fee55level0_row5\" class=\"row_heading level0 row5\" >Profit</th>\n",
       "                        <td id=\"T_a1cc08c4_8408_11eb_b5ed_d36db62fee55row5_col0\" class=\"data row5 col0\" >0.54</td>\n",
       "                        <td id=\"T_a1cc08c4_8408_11eb_b5ed_d36db62fee55row5_col1\" class=\"data row5 col1\" >0.46</td>\n",
       "                        <td id=\"T_a1cc08c4_8408_11eb_b5ed_d36db62fee55row5_col2\" class=\"data row5 col2\" >0.46</td>\n",
       "                        <td id=\"T_a1cc08c4_8408_11eb_b5ed_d36db62fee55row5_col3\" class=\"data row5 col3\" >0.86</td>\n",
       "                        <td id=\"T_a1cc08c4_8408_11eb_b5ed_d36db62fee55row5_col4\" class=\"data row5 col4\" >0.49</td>\n",
       "                        <td id=\"T_a1cc08c4_8408_11eb_b5ed_d36db62fee55row5_col5\" class=\"data row5 col5\" >1.00</td>\n",
       "                        <td id=\"T_a1cc08c4_8408_11eb_b5ed_d36db62fee55row5_col6\" class=\"data row5 col6\" >0.74</td>\n",
       "                        <td id=\"T_a1cc08c4_8408_11eb_b5ed_d36db62fee55row5_col7\" class=\"data row5 col7\" >0.78</td>\n",
       "            </tr>\n",
       "            <tr>\n",
       "                        <th id=\"T_a1cc08c4_8408_11eb_b5ed_d36db62fee55level0_row6\" class=\"row_heading level0 row6\" >Margin</th>\n",
       "                        <td id=\"T_a1cc08c4_8408_11eb_b5ed_d36db62fee55row6_col0\" class=\"data row6 col0\" >0.64</td>\n",
       "                        <td id=\"T_a1cc08c4_8408_11eb_b5ed_d36db62fee55row6_col1\" class=\"data row6 col1\" >0.53</td>\n",
       "                        <td id=\"T_a1cc08c4_8408_11eb_b5ed_d36db62fee55row6_col2\" class=\"data row6 col2\" >0.00</td>\n",
       "                        <td id=\"T_a1cc08c4_8408_11eb_b5ed_d36db62fee55row6_col3\" class=\"data row6 col3\" >0.44</td>\n",
       "                        <td id=\"T_a1cc08c4_8408_11eb_b5ed_d36db62fee55row6_col4\" class=\"data row6 col4\" >0.02</td>\n",
       "                        <td id=\"T_a1cc08c4_8408_11eb_b5ed_d36db62fee55row6_col5\" class=\"data row6 col5\" >0.74</td>\n",
       "                        <td id=\"T_a1cc08c4_8408_11eb_b5ed_d36db62fee55row6_col6\" class=\"data row6 col6\" >1.00</td>\n",
       "                        <td id=\"T_a1cc08c4_8408_11eb_b5ed_d36db62fee55row6_col7\" class=\"data row6 col7\" >0.95</td>\n",
       "            </tr>\n",
       "            <tr>\n",
       "                        <th id=\"T_a1cc08c4_8408_11eb_b5ed_d36db62fee55level0_row7\" class=\"row_heading level0 row7\" >Markup</th>\n",
       "                        <td id=\"T_a1cc08c4_8408_11eb_b5ed_d36db62fee55row7_col0\" class=\"data row7 col0\" >0.69</td>\n",
       "                        <td id=\"T_a1cc08c4_8408_11eb_b5ed_d36db62fee55row7_col1\" class=\"data row7 col1\" >0.58</td>\n",
       "                        <td id=\"T_a1cc08c4_8408_11eb_b5ed_d36db62fee55row7_col2\" class=\"data row7 col2\" >-0.00</td>\n",
       "                        <td id=\"T_a1cc08c4_8408_11eb_b5ed_d36db62fee55row7_col3\" class=\"data row7 col3\" >0.46</td>\n",
       "                        <td id=\"T_a1cc08c4_8408_11eb_b5ed_d36db62fee55row7_col4\" class=\"data row7 col4\" >0.02</td>\n",
       "                        <td id=\"T_a1cc08c4_8408_11eb_b5ed_d36db62fee55row7_col5\" class=\"data row7 col5\" >0.78</td>\n",
       "                        <td id=\"T_a1cc08c4_8408_11eb_b5ed_d36db62fee55row7_col6\" class=\"data row7 col6\" >0.95</td>\n",
       "                        <td id=\"T_a1cc08c4_8408_11eb_b5ed_d36db62fee55row7_col7\" class=\"data row7 col7\" >1.00</td>\n",
       "            </tr>\n",
       "    </tbody></table>"
      ],
      "text/plain": [
       "<pandas.io.formats.style.Styler at 0x7f4698ea7e80>"
      ]
     },
     "execution_count": 75,
     "metadata": {},
     "output_type": "execute_result"
    }
   ],
   "source": [
    "corr = df.drop(['City', 'Holiday', 'Payment_Mode', 'Gender', 'Age', 'Income (USD/Month)'], axis=1).corr()\n",
    "corr.style.background_gradient(cmap='coolwarm').set_precision(2)"
   ]
  },
  {
   "cell_type": "markdown",
   "metadata": {},
   "source": [
    "86 % of the profit is explained by price charged"
   ]
  },
  {
   "cell_type": "markdown",
   "metadata": {},
   "source": [
    "## Rides analysis"
   ]
  },
  {
   "cell_type": "code",
   "execution_count": 76,
   "metadata": {},
   "outputs": [],
   "source": [
    "number_rides = df.Company.value_counts()\n",
    "profit_per_company = df.groupby('Company')['Profit'].sum()"
   ]
  },
  {
   "cell_type": "code",
   "execution_count": 77,
   "metadata": {},
   "outputs": [
    {
     "data": {
      "text/plain": [
       "Yellow Cab    274681\n",
       "Pink Cab       84711\n",
       "Name: Company, dtype: int64"
      ]
     },
     "execution_count": 77,
     "metadata": {},
     "output_type": "execute_result"
    }
   ],
   "source": [
    "number_rides"
   ]
  },
  {
   "cell_type": "code",
   "execution_count": 78,
   "metadata": {},
   "outputs": [
    {
     "data": {
      "text/plain": [
       "Company\n",
       "Pink Cab      5.307328e+06\n",
       "Yellow Cab    4.402037e+07\n",
       "Name: Profit, dtype: float64"
      ]
     },
     "execution_count": 78,
     "metadata": {},
     "output_type": "execute_result"
    }
   ],
   "source": [
    "profit_per_company"
   ]
  },
  {
   "cell_type": "code",
   "execution_count": 79,
   "metadata": {},
   "outputs": [],
   "source": [
    "yellow_cab_profit_per_rides = profit_per_company['Yellow Cab'] / number_rides['Yellow Cab']  \n",
    "pink_cab_profit_per_rides = profit_per_company['Pink Cab'] / number_rides['Pink Cab']"
   ]
  },
  {
   "cell_type": "code",
   "execution_count": 80,
   "metadata": {},
   "outputs": [
    {
     "data": {
      "text/plain": [
       "160.2599858410376"
      ]
     },
     "execution_count": 80,
     "metadata": {},
     "output_type": "execute_result"
    }
   ],
   "source": [
    "yellow_cab_profit_per_rides"
   ]
  },
  {
   "cell_type": "code",
   "execution_count": 81,
   "metadata": {},
   "outputs": [
    {
     "data": {
      "text/plain": [
       "62.65217410961903"
      ]
     },
     "execution_count": 81,
     "metadata": {},
     "output_type": "execute_result"
    }
   ],
   "source": [
    "pink_cab_profit_per_rides"
   ]
  },
  {
   "cell_type": "code",
   "execution_count": 82,
   "metadata": {},
   "outputs": [],
   "source": [
    "df_date = df.set_index('Date')"
   ]
  },
  {
   "cell_type": "code",
   "execution_count": 83,
   "metadata": {},
   "outputs": [],
   "source": [
    "number_rides_per_year = df_date.groupby([pd.Grouper(freq=\"A\"), \"Company\"])['City'].agg(['count'])"
   ]
  },
  {
   "cell_type": "code",
   "execution_count": 84,
   "metadata": {},
   "outputs": [],
   "source": [
    "number_rides_per_year.reset_index(inplace=True)"
   ]
  },
  {
   "cell_type": "code",
   "execution_count": 85,
   "metadata": {},
   "outputs": [],
   "source": [
    "number_rides_per_year.rename(columns={'count':'Total Rides'}, inplace=True)\n",
    "number_rides_per_year.Date = number_rides_per_year.Date.apply(lambda x : x.year)"
   ]
  },
  {
   "cell_type": "code",
   "execution_count": 86,
   "metadata": {},
   "outputs": [
    {
     "data": {
      "text/plain": [
       "<Figure size 576x504 with 0 Axes>"
      ]
     },
     "metadata": {},
     "output_type": "display_data"
    },
    {
     "data": {
      "image/png": "[encoded data removed]",
      "text/plain": [
       "<Figure size 449x360 with 1 Axes>"
      ]
     },
     "metadata": {
      "needs_background": "light"
     },
     "output_type": "display_data"
    }
   ],
   "source": [
    "plt.figure(figsize = (8,7))\n",
    "sns.catplot(x='Date', y='Total Rides', hue='Company', data=number_rides_per_year, kind='point')\n",
    "#plt.title('Total Rides per year for each company')\n",
    "plt.xlabel('Year')\n",
    "plt.show()"
   ]
  },
  {
   "cell_type": "markdown",
   "metadata": {},
   "source": [
    "The Yellow Cab company has a higher number of trips than Pink Cab. In addition, there is a downward trend in the number of trips in both companies."
   ]
  },
  {
   "cell_type": "code",
   "execution_count": 87,
   "metadata": {},
   "outputs": [],
   "source": [
    "number_rides_per_month = df_date.groupby([pd.Grouper(freq=\"M\"), \"Company\"])['City'].agg(['count'])"
   ]
  },
  {
   "cell_type": "code",
   "execution_count": 88,
   "metadata": {},
   "outputs": [],
   "source": [
    "number_rides_per_month.reset_index(inplace=True)"
   ]
  },
  {
   "cell_type": "code",
   "execution_count": 89,
   "metadata": {},
   "outputs": [],
   "source": [
    "number_rides_per_month.rename(columns={'count':'Total Rides'}, inplace=True)"
   ]
  },
  {
   "cell_type": "code",
   "execution_count": 90,
   "metadata": {},
   "outputs": [],
   "source": [
    "number_rides_per_month.set_index('Date', inplace=True)"
   ]
  },
  {
   "cell_type": "code",
   "execution_count": 91,
   "metadata": {},
   "outputs": [
    {
     "data": {
      "image/png": "[encoded data removed]",
      "text/plain": [
       "<Figure size 720x360 with 1 Axes>"
      ]
     },
     "metadata": {
      "needs_background": "light"
     },
     "output_type": "display_data"
    }
   ],
   "source": [
    "plt.figure(figsize = (10,5))\n",
    "sns.lineplot(x=number_rides_per_month.index, y='Total Rides', data=number_rides_per_month, hue='Company')\n",
    "\n",
    "#plt.legend(['Yellow Cab', 'Pink Cab'])\n",
    "plt.title('Total rides per month by each company')\n",
    "plt.xlabel('Months')\n",
    "plt.show()"
   ]
  },
  {
   "cell_type": "markdown",
   "metadata": {},
   "source": [
    "On a monthly analysis, the highest number of trips for both companies was recorded around the month of January of each year. "
   ]
  },
  {
   "cell_type": "code",
   "execution_count": 92,
   "metadata": {},
   "outputs": [
    {
     "data": {
      "text/html": [
       "<div>\n",
       "<style scoped>\n",
       "    .dataframe tbody tr th:only-of-type {\n",
       "        vertical-align: middle;\n",
       "    }\n",
       "\n",
       "    .dataframe tbody tr th {\n",
       "        vertical-align: top;\n",
       "    }\n",
       "\n",
       "    .dataframe thead th {\n",
       "        text-align: right;\n",
       "    }\n",
       "</style>\n",
       "<table border=\"1\" class=\"dataframe\">\n",
       "  <thead>\n",
       "    <tr style=\"text-align: right;\">\n",
       "      <th></th>\n",
       "      <th>City</th>\n",
       "      <th>Population</th>\n",
       "      <th>Users</th>\n",
       "      <th>Date</th>\n",
       "      <th>Holiday</th>\n",
       "      <th>Company</th>\n",
       "      <th>KM Travelled</th>\n",
       "      <th>Price Charged</th>\n",
       "      <th>Cost of Trip</th>\n",
       "      <th>Payment_Mode</th>\n",
       "      <th>Gender</th>\n",
       "      <th>Age</th>\n",
       "      <th>Income (USD/Month)</th>\n",
       "      <th>Profit</th>\n",
       "      <th>Margin</th>\n",
       "      <th>Markup</th>\n",
       "    </tr>\n",
       "  </thead>\n",
       "  <tbody>\n",
       "    <tr>\n",
       "      <th>0</th>\n",
       "      <td>NEW YORK NY</td>\n",
       "      <td>8405837</td>\n",
       "      <td>302149</td>\n",
       "      <td>2016-01-02</td>\n",
       "      <td>NaN</td>\n",
       "      <td>Yellow Cab</td>\n",
       "      <td>46.80</td>\n",
       "      <td>1391.91</td>\n",
       "      <td>595.2960</td>\n",
       "      <td>Card</td>\n",
       "      <td>Male</td>\n",
       "      <td>40</td>\n",
       "      <td>11462</td>\n",
       "      <td>796.6140</td>\n",
       "      <td>57.231718</td>\n",
       "      <td>133.818134</td>\n",
       "    </tr>\n",
       "    <tr>\n",
       "      <th>1</th>\n",
       "      <td>NEW YORK NY</td>\n",
       "      <td>8405837</td>\n",
       "      <td>302149</td>\n",
       "      <td>2016-01-02</td>\n",
       "      <td>NaN</td>\n",
       "      <td>Yellow Cab</td>\n",
       "      <td>37.12</td>\n",
       "      <td>1238.35</td>\n",
       "      <td>507.8016</td>\n",
       "      <td>Card</td>\n",
       "      <td>Male</td>\n",
       "      <td>34</td>\n",
       "      <td>2589</td>\n",
       "      <td>730.5484</td>\n",
       "      <td>58.993693</td>\n",
       "      <td>143.864927</td>\n",
       "    </tr>\n",
       "    <tr>\n",
       "      <th>2</th>\n",
       "      <td>NEW YORK NY</td>\n",
       "      <td>8405837</td>\n",
       "      <td>302149</td>\n",
       "      <td>2016-01-02</td>\n",
       "      <td>NaN</td>\n",
       "      <td>Yellow Cab</td>\n",
       "      <td>38.88</td>\n",
       "      <td>1211.78</td>\n",
       "      <td>517.8816</td>\n",
       "      <td>Cash</td>\n",
       "      <td>Male</td>\n",
       "      <td>45</td>\n",
       "      <td>12186</td>\n",
       "      <td>693.8984</td>\n",
       "      <td>57.262737</td>\n",
       "      <td>133.987846</td>\n",
       "    </tr>\n",
       "    <tr>\n",
       "      <th>3</th>\n",
       "      <td>NEW YORK NY</td>\n",
       "      <td>8405837</td>\n",
       "      <td>302149</td>\n",
       "      <td>2016-01-02</td>\n",
       "      <td>NaN</td>\n",
       "      <td>Pink Cab</td>\n",
       "      <td>2.10</td>\n",
       "      <td>37.18</td>\n",
       "      <td>21.4200</td>\n",
       "      <td>Cash</td>\n",
       "      <td>Male</td>\n",
       "      <td>28</td>\n",
       "      <td>15285</td>\n",
       "      <td>15.7600</td>\n",
       "      <td>42.388381</td>\n",
       "      <td>73.576097</td>\n",
       "    </tr>\n",
       "    <tr>\n",
       "      <th>4</th>\n",
       "      <td>NEW YORK NY</td>\n",
       "      <td>8405837</td>\n",
       "      <td>302149</td>\n",
       "      <td>2016-01-02</td>\n",
       "      <td>NaN</td>\n",
       "      <td>Pink Cab</td>\n",
       "      <td>32.64</td>\n",
       "      <td>498.60</td>\n",
       "      <td>349.2480</td>\n",
       "      <td>Card</td>\n",
       "      <td>Male</td>\n",
       "      <td>52</td>\n",
       "      <td>15974</td>\n",
       "      <td>149.3520</td>\n",
       "      <td>29.954272</td>\n",
       "      <td>42.763881</td>\n",
       "    </tr>\n",
       "  </tbody>\n",
       "</table>\n",
       "</div>"
      ],
      "text/plain": [
       "          City  Population   Users       Date Holiday     Company  \\\n",
       "0  NEW YORK NY     8405837  302149 2016-01-02     NaN  Yellow Cab   \n",
       "1  NEW YORK NY     8405837  302149 2016-01-02     NaN  Yellow Cab   \n",
       "2  NEW YORK NY     8405837  302149 2016-01-02     NaN  Yellow Cab   \n",
       "3  NEW YORK NY     8405837  302149 2016-01-02     NaN    Pink Cab   \n",
       "4  NEW YORK NY     8405837  302149 2016-01-02     NaN    Pink Cab   \n",
       "\n",
       "   KM Travelled  Price Charged  Cost of Trip Payment_Mode Gender  Age  \\\n",
       "0         46.80        1391.91      595.2960         Card   Male   40   \n",
       "1         37.12        1238.35      507.8016         Card   Male   34   \n",
       "2         38.88        1211.78      517.8816         Cash   Male   45   \n",
       "3          2.10          37.18       21.4200         Cash   Male   28   \n",
       "4         32.64         498.60      349.2480         Card   Male   52   \n",
       "\n",
       "   Income (USD/Month)    Profit     Margin      Markup  \n",
       "0               11462  796.6140  57.231718  133.818134  \n",
       "1                2589  730.5484  58.993693  143.864927  \n",
       "2               12186  693.8984  57.262737  133.987846  \n",
       "3               15285   15.7600  42.388381   73.576097  \n",
       "4               15974  149.3520  29.954272   42.763881  "
      ]
     },
     "execution_count": 92,
     "metadata": {},
     "output_type": "execute_result"
    }
   ],
   "source": [
    "#Customer analysis based on ride distance\n",
    "df.head()"
   ]
  },
  {
   "cell_type": "code",
   "execution_count": 93,
   "metadata": {},
   "outputs": [],
   "source": [
    "km = df[['Company', 'KM Travelled']]"
   ]
  },
  {
   "cell_type": "code",
   "execution_count": 94,
   "metadata": {},
   "outputs": [
    {
     "name": "stderr",
     "output_type": "stream",
     "text": [
      "<ipython-input-94-04893f86fd08>:3: SettingWithCopyWarning: \n",
      "A value is trying to be set on a copy of a slice from a DataFrame.\n",
      "Try using .loc[row_indexer,col_indexer] = value instead\n",
      "\n",
      "See the caveats in the documentation: https://pandas.pydata.org/pandas-docs/stable/user_guide/indexing.html#returning-a-view-versus-a-copy\n",
      "  km['KM Travelled'] = pd.cut(km['KM Travelled'], km_bins, labels=km_names)\n"
     ]
    }
   ],
   "source": [
    "km_bins = [1, 10, 20, 30, 40, 50]\n",
    "km_names = ['1-10', '11-20', '21-30', '31-40', '41-50']\n",
    "km['KM Travelled'] = pd.cut(km['KM Travelled'], km_bins, labels=km_names)"
   ]
  },
  {
   "cell_type": "code",
   "execution_count": 95,
   "metadata": {},
   "outputs": [],
   "source": [
    "km_grouped = km.groupby(['Company', 'KM Travelled']).size().reset_index().pivot(columns='Company', values=0, index='KM Travelled')"
   ]
  },
  {
   "cell_type": "code",
   "execution_count": 96,
   "metadata": {},
   "outputs": [],
   "source": [
    "km_grouped['Total'] = km_grouped['Yellow Cab'] + km_grouped['Pink Cab']"
   ]
  },
  {
   "cell_type": "code",
   "execution_count": 97,
   "metadata": {},
   "outputs": [
    {
     "data": {
      "image/png": "[encoded data removed]",
      "text/plain": [
       "<Figure size 720x360 with 1 Axes>"
      ]
     },
     "metadata": {
      "needs_background": "light"
     },
     "output_type": "display_data"
    }
   ],
   "source": [
    "companies = ['Yellow Cab', 'Pink Cab']\n",
    "colors = ['#1D2F6F', '#8390FA']\n",
    "labels = ['Yellow Cab', 'Pink Cab']\n",
    "\n",
    "fig, ax = plt.subplots(1, figsize=(10, 5))\n",
    "\n",
    "left = len(km_grouped) * [0]\n",
    "for idx, name in enumerate(companies):\n",
    "    plt.barh(km_grouped.index, km_grouped[name], left = left, color=colors[idx])\n",
    "    left = left + km_grouped[name]\n",
    "    \n",
    "plt.title('Customer analysis per ride distance\\n', loc='left', color='black', fontsize=14)\n",
    "plt.legend(labels, bbox_to_anchor=([0.55, 1, 0, 0]), ncol=4, frameon=False)\n",
    "plt.xlabel('Number of rides')\n",
    "plt.ylabel('Km Travelled')\n",
    "\n",
    "ax.spines['right'].set_visible(False)\n",
    "ax.spines['left'].set_visible(False)\n",
    "ax.spines['top'].set_visible(False)\n",
    "ax.spines['bottom'].set_visible(False)\n",
    "\n",
    "plt.ylim(-0.5, ax.get_yticks()[-1] + 0.5)\n",
    "ax.set_axisbelow(True)\n",
    "ax.xaxis.grid(color='gray', linestyle='dashed')\n",
    "\n",
    "plt.show()"
   ]
  },
  {
   "cell_type": "markdown",
   "metadata": {},
   "source": [
    "There is a clear predominance of medium-distance travel dominated by Yellow Cab"
   ]
  },
  {
   "cell_type": "code",
   "execution_count": 98,
   "metadata": {},
   "outputs": [],
   "source": [
    "km2 = df[['Company', 'KM Travelled', 'Profit']]"
   ]
  },
  {
   "cell_type": "code",
   "execution_count": 99,
   "metadata": {},
   "outputs": [
    {
     "name": "stderr",
     "output_type": "stream",
     "text": [
      "<ipython-input-99-0546fd6019b6>:1: SettingWithCopyWarning: \n",
      "A value is trying to be set on a copy of a slice from a DataFrame.\n",
      "Try using .loc[row_indexer,col_indexer] = value instead\n",
      "\n",
      "See the caveats in the documentation: https://pandas.pydata.org/pandas-docs/stable/user_guide/indexing.html#returning-a-view-versus-a-copy\n",
      "  km2['KM Travelled'] = pd.cut(km2['KM Travelled'], km_bins, labels=km_names)\n"
     ]
    }
   ],
   "source": [
    "km2['KM Travelled'] = pd.cut(km2['KM Travelled'], km_bins, labels=km_names)"
   ]
  },
  {
   "cell_type": "code",
   "execution_count": 100,
   "metadata": {},
   "outputs": [],
   "source": [
    "km2_grouped = km2.groupby(['Company', 'KM Travelled'])['Profit'].mean().reset_index().pivot(columns='Company', values='Profit', index='KM Travelled')"
   ]
  },
  {
   "cell_type": "code",
   "execution_count": 101,
   "metadata": {},
   "outputs": [],
   "source": [
    "km2_grouped['Total Profit'] = km2_grouped['Yellow Cab'] + km2_grouped['Pink Cab']"
   ]
  },
  {
   "cell_type": "code",
   "execution_count": 102,
   "metadata": {},
   "outputs": [
    {
     "data": {
      "image/png": "[encoded data removed]",
      "text/plain": [
       "<Figure size 720x360 with 1 Axes>"
      ]
     },
     "metadata": {
      "needs_background": "light"
     },
     "output_type": "display_data"
    }
   ],
   "source": [
    "companies = ['Yellow Cab', 'Pink Cab']\n",
    "colors = ['#1D2F6F', '#8390FA']\n",
    "labels = ['Yellow Cab', 'Pink Cab']\n",
    "\n",
    "fig, ax = plt.subplots(1, figsize=(10, 5))\n",
    "\n",
    "left = len(km2_grouped) * [0]\n",
    "for idx, name in enumerate(companies):\n",
    "    plt.barh(km2_grouped.index, km2_grouped[name], left = left, color=colors[idx])\n",
    "    left = left + km2_grouped[name]\n",
    "    \n",
    "plt.title('Mean profit per ride distance\\n', loc='left', color='black', fontsize=14)\n",
    "plt.legend(labels, bbox_to_anchor=([0.55, 1, 0, 0]), ncol=4, frameon=False)\n",
    "plt.xlabel('Mean profit')\n",
    "plt.ylabel('Km Travelled')\n",
    "\n",
    "ax.spines['right'].set_visible(False)\n",
    "ax.spines['left'].set_visible(False)\n",
    "ax.spines['top'].set_visible(False)\n",
    "ax.spines['bottom'].set_visible(False)\n",
    "\n",
    "plt.ylim(-0.5, ax.get_yticks()[-1] + 0.5)\n",
    "ax.set_axisbelow(True)\n",
    "ax.xaxis.grid(color='gray', linestyle='dashed')\n",
    "\n",
    "plt.show()"
   ]
  },
  {
   "cell_type": "markdown",
   "metadata": {},
   "source": [
    "The majority of Yellow Cab's revenue comes from medium and long distance travel. Since this company has a large number of medium distance trips, it follows that it outperforms Pink Cab."
   ]
  },
  {
   "cell_type": "code",
   "execution_count": 116,
   "metadata": {},
   "outputs": [
    {
     "data": {
      "text/html": [
       "<div>\n",
       "<style scoped>\n",
       "    .dataframe tbody tr th:only-of-type {\n",
       "        vertical-align: middle;\n",
       "    }\n",
       "\n",
       "    .dataframe tbody tr th {\n",
       "        vertical-align: top;\n",
       "    }\n",
       "\n",
       "    .dataframe thead th {\n",
       "        text-align: right;\n",
       "    }\n",
       "</style>\n",
       "<table border=\"1\" class=\"dataframe\">\n",
       "  <thead>\n",
       "    <tr style=\"text-align: right;\">\n",
       "      <th></th>\n",
       "      <th>Company</th>\n",
       "      <th>KM Travelled</th>\n",
       "      <th>Profit</th>\n",
       "    </tr>\n",
       "  </thead>\n",
       "  <tbody>\n",
       "    <tr>\n",
       "      <th>0</th>\n",
       "      <td>Pink Cab</td>\n",
       "      <td>1-10</td>\n",
       "      <td>16.234503</td>\n",
       "    </tr>\n",
       "    <tr>\n",
       "      <th>1</th>\n",
       "      <td>Pink Cab</td>\n",
       "      <td>11-20</td>\n",
       "      <td>41.417432</td>\n",
       "    </tr>\n",
       "    <tr>\n",
       "      <th>2</th>\n",
       "      <td>Pink Cab</td>\n",
       "      <td>21-30</td>\n",
       "      <td>68.783371</td>\n",
       "    </tr>\n",
       "    <tr>\n",
       "      <th>3</th>\n",
       "      <td>Pink Cab</td>\n",
       "      <td>31-40</td>\n",
       "      <td>97.908523</td>\n",
       "    </tr>\n",
       "    <tr>\n",
       "      <th>4</th>\n",
       "      <td>Pink Cab</td>\n",
       "      <td>41-50</td>\n",
       "      <td>120.640453</td>\n",
       "    </tr>\n",
       "  </tbody>\n",
       "</table>\n",
       "</div>"
      ],
      "text/plain": [
       "    Company KM Travelled      Profit\n",
       "0  Pink Cab         1-10   16.234503\n",
       "1  Pink Cab        11-20   41.417432\n",
       "2  Pink Cab        21-30   68.783371\n",
       "3  Pink Cab        31-40   97.908523\n",
       "4  Pink Cab        41-50  120.640453"
      ]
     },
     "execution_count": 116,
     "metadata": {},
     "output_type": "execute_result"
    }
   ],
   "source": [
    "#KM travelled and profit\n",
    "km3 = km2.groupby(['Company', 'KM Travelled'])['Profit'].mean().reset_index()\n",
    "km3.head()"
   ]
  },
  {
   "cell_type": "code",
   "execution_count": 117,
   "metadata": {},
   "outputs": [
    {
     "data": {
      "text/plain": [
       "<AxesSubplot:xlabel='KM Travelled', ylabel='Profit'>"
      ]
     },
     "execution_count": 117,
     "metadata": {},
     "output_type": "execute_result"
    },
    {
     "data": {
      "image/png": "[encoded data removed]",
      "text/plain": [
       "<Figure size 410.4x307.44 with 1 Axes>"
      ]
     },
     "metadata": {
      "needs_background": "light"
     },
     "output_type": "display_data"
    }
   ],
   "source": [
    "sns.lineplot(x='KM Travelled', y='Profit', hue='Company', data=km3)\n",
    "plt.xlabel('Mean Profit')"
   ]
  },
  {
   "cell_type": "markdown",
   "metadata": {},
   "source": [
    "### Costs per rides kilometers"
   ]
  },
  {
   "cell_type": "code",
   "execution_count": 118,
   "metadata": {},
   "outputs": [],
   "source": [
    "km4 = df[['Company', 'KM Travelled', 'Cost of Trip']]"
   ]
  },
  {
   "cell_type": "code",
   "execution_count": 119,
   "metadata": {},
   "outputs": [],
   "source": [
    "km4_grouped = km4.groupby(['Company', 'KM Travelled'])['Cost of Trip'].mean().reset_index()"
   ]
  },
  {
   "cell_type": "code",
   "execution_count": 120,
   "metadata": {},
   "outputs": [
    {
     "data": {
      "text/plain": [
       "<AxesSubplot:xlabel='KM Travelled', ylabel='Cost of Trip'>"
      ]
     },
     "execution_count": 120,
     "metadata": {},
     "output_type": "execute_result"
    },
    {
     "data": {
      "image/png": "[encoded data removed]",
      "text/plain": [
       "<Figure size 410.4x307.44 with 1 Axes>"
      ]
     },
     "metadata": {
      "needs_background": "light"
     },
     "output_type": "display_data"
    }
   ],
   "source": [
    "sns.lineplot(x='KM Travelled', y='Cost of Trip', hue='Company', data=km4_grouped)"
   ]
  },
  {
   "cell_type": "markdown",
   "metadata": {},
   "source": [
    "### Holidays analysis"
   ]
  },
  {
   "cell_type": "code",
   "execution_count": 105,
   "metadata": {},
   "outputs": [],
   "source": [
    "holiday = df.dropna()"
   ]
  },
  {
   "cell_type": "code",
   "execution_count": 106,
   "metadata": {},
   "outputs": [],
   "source": [
    "holiday_grouped = holiday.groupby(['Company', 'Holiday']).size().reset_index().pivot(columns='Company', index='Holiday', values=0)"
   ]
  },
  {
   "cell_type": "code",
   "execution_count": 107,
   "metadata": {},
   "outputs": [
    {
     "data": {
      "text/plain": [
       "Company\n",
       "Pink Cab      0\n",
       "Yellow Cab    0\n",
       "Total         0\n",
       "dtype: int64"
      ]
     },
     "execution_count": 107,
     "metadata": {},
     "output_type": "execute_result"
    }
   ],
   "source": [
    "holiday_grouped['Total'] = holiday_grouped['Yellow Cab'] + holiday_grouped['Pink Cab']\n",
    "holiday_grouped_sorted = holiday_grouped.sort_values(by='Total', ascending=True)\n",
    "holiday_grouped_sorted.isna().sum()"
   ]
  },
  {
   "cell_type": "code",
   "execution_count": 108,
   "metadata": {},
   "outputs": [
    {
     "data": {
      "image/png": "[encoded data removed]",
      "text/plain": [
       "<Figure size 864x720 with 1 Axes>"
      ]
     },
     "metadata": {
      "needs_background": "light"
     },
     "output_type": "display_data"
    }
   ],
   "source": [
    "companies = ['Yellow Cab', 'Pink Cab']\n",
    "colors = ['#1D2F6F', '#8390FA']\n",
    "labels = ['Yellow Cab', 'Pink Cab']\n",
    "\n",
    "fig, ax = plt.subplots(1, figsize=(12, 10))\n",
    "\n",
    "left = len(holiday_grouped_sorted) * [0]\n",
    "for idx, name in enumerate(companies):\n",
    "    plt.barh(holiday_grouped_sorted.index, holiday_grouped_sorted[name], left = left, color=colors[idx])\n",
    "    left = left + holiday_grouped_sorted[name]\n",
    "    \n",
    "plt.title('Customer preference on holidays\\n', loc='left', color='black', fontsize=14)\n",
    "plt.legend(labels, bbox_to_anchor=([0.55, 1, 0, 0]), ncol=4, frameon=False)\n",
    "plt.xlabel('Number of users')\n",
    "\n",
    "ax.spines['right'].set_visible(False)\n",
    "ax.spines['left'].set_visible(False)\n",
    "ax.spines['top'].set_visible(False)\n",
    "ax.spines['bottom'].set_visible(False)\n",
    "\n",
    "plt.ylim(-0.5, ax.get_yticks()[-1] + 0.5)\n",
    "ax.set_axisbelow(True)\n",
    "ax.xaxis.grid(color='gray', linestyle='dashed')\n",
    "\n",
    "plt.show()"
   ]
  },
  {
   "cell_type": "markdown",
   "metadata": {},
   "source": [
    "# Conclusions"
   ]
  },
  {
   "cell_type": "markdown",
   "metadata": {},
   "source": [
    "From the above analysis we can say that there is a seasonality in the number of customers in a given period of time (months). This seasonality indicates that Yellow Cab has more clients than Pink Cab in the whole period analyzed. In addition, there is a seasonality in the profit of each company, with a downward trend. Yellow Cab dominates the market over Pink Cab, even on holidays, when users prefer to use Yellow Cab services. Therefore, based on the above, we can suggest that the best company to invest in is Yellow Cab. This investment will surely have a positive influence on its performance and, by increasing its fleet, it will be able to modify the trend observed in the last few years."
   ]
  }
 ],
 "metadata": {
  "kernelspec": {
   "display_name": "Python 3",
   "language": "python",
   "name": "python3"
  },
  "language_info": {
   "codemirror_mode": {
    "name": "ipython",
    "version": 3
   },
   "file_extension": ".py",
   "mimetype": "text/x-python",
   "name": "python",
   "nbconvert_exporter": "python",
   "pygments_lexer": "ipython3",
   "version": "3.8.3"
  }
 },
 "nbformat": 4,
 "nbformat_minor": 4
}
